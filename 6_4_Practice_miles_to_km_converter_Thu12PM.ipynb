{
  "nbformat": 4,
  "nbformat_minor": 0,
  "metadata": {
    "colab": {
      "provenance": [],
      "authorship_tag": "ABX9TyP5M463pwFcDy/laid8XjaE",
      "include_colab_link": true
    },
    "kernelspec": {
      "name": "python3",
      "display_name": "Python 3"
    },
    "language_info": {
      "name": "python"
    }
  },
  "cells": [
    {
      "cell_type": "markdown",
      "metadata": {
        "id": "view-in-github",
        "colab_type": "text"
      },
      "source": [
        "<a href=\"https://colab.research.google.com/github/isys5002-itp/ISYS5002-2023-Semester1/blob/main/6_4_Practice_miles_to_km_converter_Thu12PM.ipynb\" target=\"_parent\"><img src=\"https://colab.research.google.com/assets/colab-badge.svg\" alt=\"Open In Colab\"/></a>"
      ]
    },
    {
      "cell_type": "markdown",
      "source": [
        "## Problem Statement:\n",
        "\n",
        "### Simple version\n",
        "The run tracker program is designed to help users keep track of their runs. Users can enter the date, distance in miles, and time in minutes for each run they complete. The program then automatically converts the distance in miles to kilometers and calculates the speed in kilometers per hour using the conversion formula 1 mile = 1.60934 kilometers. The speed calculates as distance/time.\n",
        "\n",
        "### Extended version:\n",
        "The run tracker program is designed to help users keep track of their runs. Users can enter the date, distance in miles, and time in minutes for each run they complete. The program then automatically converts the distance in miles to kilometers and calculates the speed in kilometers per hour using the conversion formula 1 mile = 1.60934 kilometers. The information, including all input values and the calculated speed, is then saved to a CSV file named 'run.csv' for later analysis or tracking.\n",
        "\n",
        "The program is user-friendly and interactive. It prompts the user to enter the required information and provides clear feedback, including a confirmation message with the values entered by the user and the calculated speed. The program also allows the user to decide whether to continue entering more runs or terminate the program.\n",
        "\n",
        "Overall, the run tracker program is a useful tool for individuals who want to monitor their running progress over time and make data-driven decisions about their training."
      ],
      "metadata": {
        "id": "x9jojthsPxBn"
      }
    },
    {
      "cell_type": "markdown",
      "source": [
        "Following the **six-steps problem solving methodology**,<br>\n",
        "**Design and implement** the solution following good programming practices, such as modularising code, validating inputs, handling errors properly, and adhering to the PEP8 style guide.\n",
        "\n",
        "Adhering to PEP8 standards including:\n",
        "* the programming style naming conventions used in the PEP8, which include:\n",
        "* Meaningful names for project, variable, methods, and controls.\n",
        "* Correct capatlisation of variables and methods\n",
        "* Appropriate use of comments\n",
        "* Reference any relevant forums, websites, videos that you used.\n",
        "* Use of space and indentation to program is easy to read."
      ],
      "metadata": {
        "id": "NMyr0sRXzj4D"
      }
    },
    {
      "cell_type": "markdown",
      "source": [
        "Sample input/output:\n",
        "\n",
        "```\n",
        "Enter distance in miles: 10.5\n",
        "10.5 miles is equal to 16.898104 kilometers.\n",
        "\n",
        "Enter distance in miles: 0\n",
        "0.0 miles is equal to 0.0 kilometers.\n",
        "\n",
        "Enter distance in miles: -5\n",
        "Error: Distance cannot be negative.\n",
        "\n",
        "Enter distance in miles: abc\n",
        "Error: Invalid input. Distance must be a number.\n",
        "```\n",
        "\n"
      ],
      "metadata": {
        "id": "81iAFJucQEvQ"
      }
    },
    {
      "cell_type": "markdown",
      "source": [
        "Step 1: State the problem requirement clearly\n",
        "\n",
        "discussion"
      ],
      "metadata": {
        "id": "PIJDHiqu2vsC"
      }
    },
    {
      "cell_type": "markdown",
      "source": [
        "Step 2: Identify and describe the inputs and outputs\n",
        "\n",
        "Inputs:\n",
        "* \n",
        "* \n",
        "\n",
        "Outputs: \n",
        "* \n",
        "* "
      ],
      "metadata": {
        "id": "0VO5OMNa26fD"
      }
    },
    {
      "cell_type": "markdown",
      "source": [
        "Step 3: Worked Example\n",
        "\n",
        "Example 1:\n",
        "\n",
        "\n",
        "\n",
        "Example 2:\n",
        "\n"
      ],
      "metadata": {
        "id": "xw-ScU9I3Rhz"
      }
    },
    {
      "cell_type": "markdown",
      "source": [
        "Step 4: Algo/pseudocode"
      ],
      "metadata": {
        "id": "7jiuRKWl3dp6"
      }
    },
    {
      "cell_type": "markdown",
      "source": [
        "Step 5: Algo/pseudoce implemented as Python code"
      ],
      "metadata": {
        "id": "WVFvhqHJ3jl0"
      }
    },
    {
      "cell_type": "code",
      "source": [],
      "metadata": {
        "id": "QMtwXE2H3pn-"
      },
      "execution_count": null,
      "outputs": []
    },
    {
      "cell_type": "code",
      "source": [],
      "metadata": {
        "id": "SikFWznPRJuF"
      },
      "execution_count": null,
      "outputs": []
    },
    {
      "cell_type": "markdown",
      "source": [
        "### Test your program with some valid and invalid cases"
      ],
      "metadata": {
        "id": "Sdy8NRHrWJ0u"
      }
    },
    {
      "cell_type": "code",
      "source": [],
      "metadata": {
        "id": "ekCKmlCzWdaj"
      },
      "execution_count": null,
      "outputs": []
    },
    {
      "cell_type": "markdown",
      "source": [
        "### Optional: Modify the program so it print results and write results to a file."
      ],
      "metadata": {
        "id": "vw_BIIeeNsCl"
      }
    },
    {
      "cell_type": "code",
      "source": [],
      "metadata": {
        "id": "-mBD-_ApTLSD"
      },
      "execution_count": null,
      "outputs": []
    },
    {
      "cell_type": "markdown",
      "source": [
        "### Optional: Plot a graph to visualise the result\n",
        "\n",
        "\n"
      ],
      "metadata": {
        "id": "NmDIwHQ3T_bU"
      }
    }
  ]
}