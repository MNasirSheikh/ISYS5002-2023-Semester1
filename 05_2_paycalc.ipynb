{
  "nbformat": 4,
  "nbformat_minor": 0,
  "metadata": {
    "colab": {
      "provenance": [],
      "include_colab_link": true
    },
    "kernelspec": {
      "name": "python3",
      "display_name": "Python 3"
    },
    "language_info": {
      "name": "python"
    }
  },
  "cells": [
    {
      "cell_type": "markdown",
      "metadata": {
        "id": "view-in-github",
        "colab_type": "text"
      },
      "source": [
        "<a href=\"https://colab.research.google.com/github/MNasirSheikh/ISYS5002-2023-Semester1/blob/main/05_2_paycalc.ipynb\" target=\"_parent\"><img src=\"https://colab.research.google.com/assets/colab-badge.svg\" alt=\"Open In Colab\"/></a>"
      ]
    },
    {
      "cell_type": "code",
      "source": [
        "def user_input():\n",
        "  \"\"\"\n",
        "  This function prompts the user to enter their name, salary, sales, and commission rate and returns these inputs as a tuple.\n",
        "\n",
        "  Inputs:                             #Note: these information written in red are the infromation for the user that it know what's this codes is all about. so it's not a input but an exlpanation \n",
        "  None                                 # of what the function is doing.\n",
        "\n",
        "  Returns:\n",
        "  name: a string representing the user's name\n",
        "  salary: an integer representing the user's salary\n",
        "  sales: an integer representing the user's sales\n",
        "  comm_rate: a float representing the user's commission rate\n",
        "  \"\"\"\n",
        "\n",
        "  # get user input - name\n",
        "  name = input(\"Please enter name: \")\n",
        "\n",
        "  # get user input for salary\n",
        "  salary = int(input(\"Please enter salary: \"))\n",
        "\n",
        "  # get user input for sales\n",
        "  sales = int(input(\"Please enter sales: \"))\n",
        "\n",
        "  # get user input for commission\n",
        "  comm_rate = float(input(\"Please enter commission rate: \"))\n",
        "\n",
        "  return name, salary, sales, comm_rate"
      ],
      "metadata": {
        "id": "vNqHfkGpRIPh"
      },
      "execution_count": 6,
      "outputs": []
    },
    {
      "cell_type": "code",
      "execution_count": 7,
      "metadata": {
        "id": "noLjEaawPIF_"
      },
      "outputs": [],
      "source": [
        "def calculate_pay(salary, sales, comm):\n",
        "  \"\"\"\n",
        "  This function calculates the commission, tax, and pay for a given salary, sales, and commission rate.\n",
        "\n",
        "  Inputs:\n",
        "  salary: an integer representing the user's salary\n",
        "  sales: an integer representing the user's sales\n",
        "  comm: a float representing the user's commission rate\n",
        "  \n",
        "  Returns:\n",
        "  commission: a float representing the commission earned based on the sales and commission rate\n",
        "  tax: a float representing the tax amount calculated based on the salary and commission earned\n",
        "  pay: a float representing the pay after deducting tax from the salary and adding the commission earned\n",
        "  \"\"\"\n",
        "\n",
        "  # calculate the commision\n",
        "  commission = (comm/100) * sales\n",
        "\n",
        "  # calculate the tax\n",
        "  tax = calculate_tax((salary + commission))\n",
        "\n",
        "  # calculate the pay\n",
        "  pay = salary + commission - tax\n",
        "\n",
        "  #print(commission, tax, pay)\n",
        "  return commission, tax, pay"
      ]
    },
    {
      "cell_type": "code",
      "source": [
        "def calculate_tax(income):\n",
        "  if income <= 18200:\n",
        "    tax_payable = 0\n",
        "  elif 18201 <= income <= 45000:\n",
        "    tax_payable = 0.19 * (income - 18200)\n",
        "  elif 45001 <= income <= 120000:\n",
        "    tax_payable = 5092 + 0.32 * (income - 45000)\n",
        "  elif 120001 <= income <= 180000:\n",
        "    tax_payable = 29467 + 0.37 * (income - 120000)\n",
        "  else:\n",
        "    tax_payable = 51667 + 0.45 * (income - 180000)\n",
        "\n",
        "  return tax_payable"
      ],
      "metadata": {
        "id": "5YhQ5_InPVV2"
      },
      "execution_count": 8,
      "outputs": []
    },
    {
      "cell_type": "code",
      "source": [
        "def print_payslip(name, salary, comm_result, tax_result, pay_result):\n",
        "  \"\"\"\n",
        "  This function takes in the name, salary, commission, tax, and pay results as inputs and prints out a nicely formatted payslip for the user.\n",
        "\n",
        "  Inputs:\n",
        "  name: a string representing the user's name\n",
        "  salary: an integer representing the user's salary\n",
        "  comm_result: a float representing the commission earned\n",
        "  tax_result: a float representing the tax amount calculated based on the salary and commission earned\n",
        "  pay_result: a float representing the pay after deducting tax from the salary and adding the commission earned\n",
        "  \n",
        "  Outputs:\n",
        "  prints the payslip stream, or to sys.stdout\n",
        "  \"\"\"\n",
        "\n",
        "  # print out the payslip nicely formatted\n",
        "  print(f'\\n=== Payslip of {name} ===')\n",
        "  print(f\"Salary: {salary:9} \\nCommission: {comm_result:2} \\nTax: {tax_result:13} \\nTotal pay: {pay_result:8}\")"
      ],
      "metadata": {
        "id": "f05wtfdvRiaK"
      },
      "execution_count": 9,
      "outputs": []
    },
    {
      "cell_type": "code",
      "source": [
        "8# 1-Nasir Practise Code.\n",
        "\n",
        "name, salary, sales, comm_rate = user_input()"
      ],
      "metadata": {
        "colab": {
          "base_uri": "https://localhost:8080/"
        },
        "id": "wPEYi8eXemZ7",
        "outputId": "5e29024f-fddd-4bbe-d4d0-79ee3c7d6a05"
      },
      "execution_count": 14,
      "outputs": [
        {
          "name": "stdout",
          "output_type": "stream",
          "text": [
            "Please enter name:  Nasir \n",
            "Please enter salary: 80000\n",
            "Please enter sales: 50000\n",
            "Please enter commission rate: 0.05\n"
          ]
        }
      ]
    },
    {
      "cell_type": "code",
      "source": [
        "# 2-Nasir Practise Code.\n",
        "\n",
        "print(f\"Name: {name}\\nSalary: {salary}\\nSales:{sales}\\nCommssion_rate:{comm_rate}\")"
      ],
      "metadata": {
        "colab": {
          "base_uri": "https://localhost:8080/"
        },
        "id": "hZgXkGqUemKa",
        "outputId": "93942bf5-721d-44cc-b4fe-ebeed0eb75a6"
      },
      "execution_count": 15,
      "outputs": [
        {
          "output_type": "stream",
          "name": "stdout",
          "text": [
            "Name:  Nasir \n",
            "Salary: 80000\n",
            "Sales:50000\n",
            "Commssion_rate:0.05\n"
          ]
        }
      ]
    },
    {
      "cell_type": "code",
      "source": [
        "# 3-Nasir's Practise Code:\n",
        "commissionR, taxR, payR = calculate_pay(salary, sales, comm_rate)"
      ],
      "metadata": {
        "id": "8HATfg_BgneD"
      },
      "execution_count": 19,
      "outputs": []
    },
    {
      "cell_type": "code",
      "source": [
        "# 4-Nasir's Practise Code.\n",
        "print_payslip(name, salary, commissionR, taxR, payR)"
      ],
      "metadata": {
        "colab": {
          "base_uri": "https://localhost:8080/"
        },
        "id": "pLjbcW3Yj9uS",
        "outputId": "67a8927e-93aa-443c-944c-3f5ade0e221b"
      },
      "execution_count": 20,
      "outputs": [
        {
          "output_type": "stream",
          "name": "stdout",
          "text": [
            "\n",
            "=== Payslip of  Nasir  ===\n",
            "Salary:     80000 \n",
            "Commission: 25.0 \n",
            "Tax:       16300.0 \n",
            "Total pay:  63725.0\n"
          ]
        }
      ]
    },
    {
      "cell_type": "code",
      "source": [
        "# 5- Nasir's Practise Code (All together)\n",
        "name, salary, sales, comm_rate = user_input()\n",
        "commissionR, taxR, payR = calculate_pay(salary, sales, comm_rate)\n",
        "print_payslip(name, salary, commissionR, taxR, payR) "
      ],
      "metadata": {
        "colab": {
          "base_uri": "https://localhost:8080/"
        },
        "id": "8ROeQHfAZM0K",
        "outputId": "68a341bc-2902-4829-b926-7565df673a9e"
      },
      "execution_count": 21,
      "outputs": [
        {
          "output_type": "stream",
          "name": "stdout",
          "text": [
            "Please enter name:  Nasir\n",
            "Please enter salary: 60000\n",
            "Please enter sales: 300000\n",
            "Please enter commission rate: 0.06\n",
            "\n",
            "=== Payslip of  Nasir ===\n",
            "Salary:     60000 \n",
            "Commission: 179.99999999999997 \n",
            "Tax:        9949.6 \n",
            "Total pay:  50230.4\n"
          ]
        }
      ]
    },
    {
      "cell_type": "code",
      "source": [
        "import random\n",
        "help(random.choice)"
      ],
      "metadata": {
        "colab": {
          "base_uri": "https://localhost:8080/"
        },
        "id": "8GNiU4reWFSB",
        "outputId": "0b373884-f252-41dc-dd5f-877828918188"
      },
      "execution_count": 1,
      "outputs": [
        {
          "output_type": "stream",
          "name": "stdout",
          "text": [
            "Help on method choice in module random:\n",
            "\n",
            "choice(seq) method of random.Random instance\n",
            "    Choose a random element from a non-empty sequence.\n",
            "\n"
          ]
        }
      ]
    }
  ]
}