{
  "cells": [
    {
      "cell_type": "markdown",
      "metadata": {
        "id": "view-in-github",
        "colab_type": "text"
      },
      "source": [
        "<a href=\"https://colab.research.google.com/github/MNasirSheikh/ISYS5002-2023-Semester1/blob/main/Copy_of_04_4_working_with_file_payslip.ipynb\" target=\"_parent\"><img src=\"https://colab.research.google.com/assets/colab-badge.svg\" alt=\"Open In Colab\"/></a>"
      ]
    },
    {
      "cell_type": "markdown",
      "metadata": {
        "id": "kF8ldRydTDPx"
      },
      "source": [
        "# Payslip\n",
        "\n",
        "A payslip is a document that shows their total wages earned for a set period. \n",
        "This might be from a salary, hourly wages or commission. Payslips are also know as ‘pay advice’.  Traditionally the payslip was a paper document attached. Today\n",
        "most organisations provide them electronically.\n",
        "\n",
        "## Task 0 - Import into GitHub\n",
        "First, import the notebook into Colab and save an initial copy to GitHub.\n",
        "\n",
        "## Task 1 - Start Simple\n",
        "\n",
        "Writing complete robust programs can take time.  Often the more we understand a problem the easier it is to implement the solution.   One approach is to implement the simplest version of a program and then slowly add functionality.\n",
        "\n",
        "This notebook aims to start simple and slowly build up the program.\n",
        "The approach we take below is one way to understand a problem, step 1 of our development process. Complex projects, often follow a similar idea\n",
        "where they implement a minimal program, and each week or month has intense periods where the team adds functionality.  These advanced methodologies are beyond the scope of an introductory programming course but by starting small and slowly adding functionality we do capture the essence of the process.\n",
        "\n"
      ]
    },
    {
      "cell_type": "markdown",
      "metadata": {
        "id": "sqMOWCoYIl9u"
      },
      "source": [
        "## The following is the payslip program we created last week"
      ]
    },
    {
      "cell_type": "code",
      "execution_count": null,
      "metadata": {
        "id": "cJwgf8nZWDF6"
      },
      "outputs": [],
      "source": [
        "# FUNCTION: calculate_pay\n",
        "# create function to calculate pay\n",
        "\n",
        "def calculate_pay(salary, sales, comm):\n",
        "  # calculate the commision\n",
        "  commission = (comm/100) * sales\n",
        "\n",
        "  # calculate the tax\n",
        "  tax = (salary + commission) * 0.10\n",
        "\n",
        "  # calculate the pay\n",
        "  pay = salary + commission - tax\n",
        "\n",
        "  #print(commission, tax, pay)\n",
        "  return commission, tax, pay\n",
        " "
      ]
    },
    {
      "cell_type": "code",
      "execution_count": null,
      "metadata": {
        "colab": {
          "base_uri": "https://localhost:8080/"
        },
        "id": "uqjNAtdf8zM-",
        "outputId": "1c0bc4d6-fd8a-47c1-ce9e-251a7432af83"
      },
      "outputs": [
        {
          "name": "stdout",
          "output_type": "stream",
          "text": [
            "Please enter name:  Nasir\n",
            "Please enter salary:  70000\n",
            "Please enter sales:  300000\n",
            "Please enter commission rate:  0.05\n",
            "\n",
            "2=== Payslip of  Nasir ===\n",
            "Salary:     70000 \n",
            "Commission: 150.0 \n",
            "Tax:        7015.0 \n",
            "Total pay:  63135.0\n"
          ]
        }
      ],
      "source": [
        "# PUTTING IT ALL TOGETHER\n",
        "\n",
        "# get user input - name\n",
        "name = input(\"Please enter name: \")\n",
        "\n",
        "# get user input for salary\n",
        "salary = int(input(\"Please enter salary: \"))\n",
        "\n",
        "# get user input for sales\n",
        "sales = int(input(\"Please enter sales: \"))\n",
        "\n",
        "# get user input for commission\n",
        "comm_rate = float(input(\"Please enter commission rate: \"))\n",
        "\n",
        "# pass the salary, sales & commission values to function calculate_pay\n",
        "# receive/capture the return values from the function\n",
        "comm_result, tax_result, pay_result = calculate_pay(salary, sales, comm_rate)\n",
        "\n",
        "# print out the payslip nicely formatted\n",
        "print(f'\\n2=== Payslip of {name} ===')\n",
        "print(f\"Salary: {salary:9} \\nCommission: {comm_result:2} \\nTax: {tax_result:13} \\nTotal pay: {pay_result:8}\")\n"
      ]
    },
    {
      "cell_type": "markdown",
      "metadata": {
        "id": "UCG4KxkJ-wBF"
      },
      "source": [
        "## Modify the *payslip* program to \n",
        "* get user input and save the user input into a csv file\n",
        "  * include error handling for any exceptions that may arise during user input\n",
        "  * where possible, use functions to group your code"
      ]
    },
    {
      "cell_type": "code",
      "execution_count": 2,
      "metadata": {
        "colab": {
          "base_uri": "https://localhost:8080/"
        },
        "id": "lYUJhhAuUkLK",
        "outputId": "7533e500-9161-4ac1-cd5b-2f3a315d31eb"
      },
      "outputs": [
        {
          "name": "stdout",
          "output_type": "stream",
          "text": [
            "Please enter name:  Nasir \n",
            "Please enter salary:  80000 \n",
            "Please enter sales:  500000\n",
            "Please enter commission rate:  0.05\n",
            "\n",
            "=== Payslip of  Nasir  ===\n",
            "Salary:     80000 \n",
            "Commission: 250.0 \n",
            "Tax:        8025.0 \n",
            "Total pay:  72225.0\n",
            "Do you want to enter another payslip? (y/n): y\n",
            "Please enter name: Hamas\n",
            "Please enter salary: 90000\n",
            "Please enter sales: 600000\n",
            "Please enter commission rate: 0.05\n",
            "\n",
            "=== Payslip of Hamas ===\n",
            "Salary:     90000 \n",
            "Commission: 300.0 \n",
            "Tax:        9030.0 \n",
            "Total pay:  81270.0\n",
            "Do you want to enter another payslip? (y/n): n\n"
          ]
        }
      ],
      "source": [
        "import csv       #Here we first import CSV module as we are going to put data into csv file and then use it. (in csv file we will write the format of calculating pay, tax and commmission\n",
        "                 # based on the user input values)\n",
        "\n",
        "# 1-FUNCTION: get_user_input (for Payslip data)\n",
        "# Here we create function to get user input and validate it\n",
        "\n",
        "def get_user_input(prompt, data_type):       #here we can also use pyinputplus functions to validate the data codes but first it needs to be installed in the system as it's a third party module.\n",
        "    while True:                              #But, here we are using try and except for input data validation.\n",
        "        user_input = input(prompt)\n",
        "        try:\n",
        "            return data_type(user_input)\n",
        "        except ValueError:\n",
        "            print(\"Invalid input. Please try again.\")\n",
        "\n",
        "# 2-FUNCTION: calculate_pay\n",
        "# Now we are  create function to calculate pay\n",
        "\n",
        "def calculate_pay(salary, sales, comm):\n",
        "    # calculate the commision\n",
        "    commission = (comm/100) * sales\n",
        "\n",
        "    # calculate the tax\n",
        "    tax = (salary + commission) * 0.10\n",
        "\n",
        "    # calculate the pay\n",
        "    pay = salary + commission - tax\n",
        "\n",
        "    return commission, tax, pay\n",
        "\n",
        "# 3-FUNCTION: write_to_csv\n",
        "# create function to write user input data to CSV file\n",
        "\n",
        "def write_to_csv(data):\n",
        "    with open('payslip_data.csv', mode='a', newline='') as data_file:\n",
        "        writer = csv.writer(data_file)\n",
        "        writer.writerow(data)\n",
        "\n",
        "#4-MAIN PROGRAM\n",
        "\n",
        "while True:\n",
        "    # get user input - name\n",
        "    name = get_user_input(\"Please enter name: \", str)\n",
        "\n",
        "    # get user input for salary\n",
        "    salary = get_user_input(\"Please enter salary: \", int)\n",
        "\n",
        "    # get user input for sales\n",
        "    sales = get_user_input(\"Please enter sales: \", int)\n",
        "\n",
        "    # get user input for commission\n",
        "    comm_rate = get_user_input(\"Please enter commission rate: \", float)\n",
        "\n",
        "    # pass the salary, sales & commission values to function calculate_pay\n",
        "    # receive/capture the return values from the function\n",
        "    comm_result, tax_result, pay_result = calculate_pay(salary, sales, comm_rate)\n",
        "\n",
        "    # print out the payslip nicely formatted by using f fuction in code.\n",
        "    print(f'\\n=== Payslip of {name} ===')\n",
        "    print(f\"Salary: {salary:9} \\nCommission: {comm_result:2} \\nTax: {tax_result:13} \\nTotal pay: {pay_result:8}\")\n",
        "\n",
        "    # write user input data to CSV file\n",
        "    data = [name, salary, sales, comm_rate, comm_result, tax_result, pay_result]\n",
        "    write_to_csv(data)\n",
        "\n",
        "    # ask user if they want to enter another payslip\n",
        "    user_input = input(\"Do you want to enter another payslip? (y/n): \")\n",
        "    if user_input.lower() == \"n\":\n",
        "        break"
      ]
    },
    {
      "cell_type": "code",
      "source": [
        "from google.colab import drive\n",
        "drive.mount('/content/drive')"
      ],
      "metadata": {
        "id": "_17oXOECAp8I"
      },
      "execution_count": null,
      "outputs": []
    },
    {
      "cell_type": "markdown",
      "metadata": {
        "id": "gujP9kJROgRw"
      },
      "source": [
        "## Modify the *payslip* program to \n",
        "* read the user data from the csv file to compute the pay\n",
        "* use the calculate_pay function"
      ]
    },
    {
      "cell_type": "code",
      "execution_count": 4,
      "metadata": {
        "id": "Ca-FjwhSYH_u",
        "colab": {
          "base_uri": "https://localhost:8080/"
        },
        "outputId": "27083acb-87c3-4968-d14e-e59caef152ba"
      },
      "outputs": [
        {
          "output_type": "stream",
          "name": "stdout",
          "text": [
            "\n",
            "=== Payslip of Hamas ===\n",
            "Salary:     90000 \n",
            "Commission: 300.0 \n",
            "Tax:        9030.0 \n",
            "Total pay:  81270.0\n"
          ]
        }
      ],
      "source": [
        "import csv\n",
        "\n",
        "#1-FUNCTION: calculate_pay\n",
        "#2-create function to calculate pay\n",
        "\n",
        "def calculate_pay(salary, sales, comm):\n",
        "    # calculate the commision\n",
        "    commission = (comm/100) * sales\n",
        "\n",
        "    # calculate the tax\n",
        "    tax = (salary + commission) * 0.10\n",
        "\n",
        "    # calculate the pay\n",
        "    pay = salary + commission - tax\n",
        "\n",
        "    return commission, tax, pay\n",
        "\n",
        "#3- Now we will read user input data from CSV file that we created and saved.\n",
        "with open('payslip_data.csv', mode='r') as data_file:\n",
        "    reader = csv.reader(data_file)\n",
        "    next(reader)  # we can skip header row\n",
        "    for row in reader:\n",
        "        name = row[0]\n",
        "        salary = int(row[1])\n",
        "        sales = int(row[2])\n",
        "        comm_rate = float(row[3])\n",
        "\n",
        "        # pass the salary, sales & commission values to function calculate_pay\n",
        "        # Now take the return values from the function\n",
        "        comm_result, tax_result, pay_result = calculate_pay(salary, sales, comm_rate)\n",
        "\n",
        "        # here using print function with f it'll reutrn the results in a formatted way.\n",
        "        print(f'\\n=== Payslip of {name} ===')\n",
        "        print(f\"Salary: {salary:9} \\nCommission: {comm_result:2} \\nTax: {tax_result:13} \\nTotal pay: {pay_result:8}\")"
      ]
    }
  ],
  "metadata": {
    "colab": {
      "provenance": [],
      "include_colab_link": true
    },
    "kernelspec": {
      "display_name": "Python 3",
      "language": "python",
      "name": "python3"
    },
    "language_info": {
      "codemirror_mode": {
        "name": "ipython",
        "version": 3
      },
      "file_extension": ".py",
      "mimetype": "text/x-python",
      "name": "python",
      "nbconvert_exporter": "python",
      "pygments_lexer": "ipython3",
      "version": "3.8.8"
    }
  },
  "nbformat": 4,
  "nbformat_minor": 0
}