{
  "cells": [
    {
      "cell_type": "markdown",
      "metadata": {
        "id": "view-in-github",
        "colab_type": "text"
      },
      "source": [
        "<a href=\"https://colab.research.google.com/github/MNasirSheikh/ISYS5002-2023-Semester1/blob/main/Copy_of_05_3_stocks_daily_return.ipynb\" target=\"_parent\"><img src=\"https://colab.research.google.com/assets/colab-badge.svg\" alt=\"Open In Colab\"/></a>"
      ]
    },
    {
      "cell_type": "markdown",
      "source": [
        "# Module CSV"
      ],
      "metadata": {
        "id": "BieUazgSLMeI"
      }
    },
    {
      "cell_type": "markdown",
      "metadata": {
        "id": "KiOs3fgB9CD8"
      },
      "source": [
        "### Reading and Writing CSV file\n",
        "\n",
        "Text files work fine when we are referencing small amounts of information, but when we use larger amounts of data, adding structure helps in organizing and retrieving values. \n",
        "\n",
        "One common format found in business and social sciences alike (as well as any field concerned with data science) is the comma-separated values (CSV) format. \n",
        "\n",
        "**CSV files** are the most common format used for importing and exporting data from spreadsheets and databases. \n",
        "\n",
        "CSV files are text files that have delimiters.  A **delimiter** is a character that separates data values. \n",
        "\n",
        "You can explore CSV files in spreadsheet software (such as Microsoft Excel), which will remove delimiters (usually commas) and store data values in separate cells.\n",
        "\n",
        "\n",
        "One of the benefits of importing data files such as CSV files is the ability to read in a lot of data at once, parsing the data so your code can access individual values within the data. **By default, CSV files use commas (“,”) to separate data values**.\n",
        "\n"
      ]
    },
    {
      "cell_type": "markdown",
      "metadata": {
        "id": "-gWkazAAcPvU"
      },
      "source": [
        "**csv module** provides functions for working with CSV files"
      ]
    },
    {
      "cell_type": "code",
      "execution_count": null,
      "metadata": {
        "id": "RLTFUeGPDrfG"
      },
      "outputs": [],
      "source": [
        "#Writing to a CSV file\n",
        "\n",
        "#import csv module\n",
        "import csv\n",
        "\n",
        "#open file and write records\n",
        "with open(\"accounts.csv\", 'w')  as accounts:\n",
        "  writer = csv.writer(accounts)\n",
        "  writer.writerow([100, 'Jones', 24.98])\n",
        "  writer.writerow([200, 'Doe', 345.67])\n",
        "  writer.writerow([300, 'Williams', 0.00])\n",
        "  writer.writerow([400, 'Stone', -42.16])\n",
        "  writer.writerow([500, 'Rich', 224.62])\n"
      ]
    },
    {
      "cell_type": "code",
      "execution_count": null,
      "metadata": {
        "colab": {
          "base_uri": "https://localhost:8080/"
        },
        "id": "IFTbzVzFeYz_",
        "outputId": "22864349-649e-4f5c-cd87-ff745435ad0d"
      },
      "outputs": [
        {
          "output_type": "stream",
          "name": "stdout",
          "text": [
            "Accounts  Name      Balance \n",
            "100       Jones     24.98   \n",
            "200       Doe       345.67  \n",
            "300       Williams  0.0     \n",
            "400       Stone     -42.16  \n",
            "500       Rich      224.62  \n"
          ]
        }
      ],
      "source": [
        "#reading from CSV file\n",
        "#The csv module’s reader function returns an object that reads CSV-format data from the specified file object\n",
        "\n",
        "#open file and read records\n",
        "import csv\n",
        "\n",
        "#open file and write records\n",
        "with open(\"accounts.csv\", 'r')  as accounts:\n",
        "  reader = csv.reader(accounts)\n",
        "  print(f'{\"Accounts\":10}{\"Name\":10}{\"Balance\":8}')\n",
        "  for record in reader:\n",
        "    accountid, name, balance = record\n",
        "    #print(record)\n",
        "    #print(accountid, name, balance)\n",
        "    print(f'{accountid:10}{name:10}{balance:8}')\n"
      ]
    },
    {
      "cell_type": "markdown",
      "source": [
        "## Working with large CSV file"
      ],
      "metadata": {
        "id": "e79alZIOnrfL"
      }
    },
    {
      "cell_type": "code",
      "source": [
        "!curl \"https://query1.finance.yahoo.com/v7/finance/download/NAB.AX?period1=1653004800&period2=1661040000&interval=1d&events=history&includeAdjustedClose=true\" > NABData.csv\n",
        "\n",
        "#Curl functions is used to have this data from the website (you just copy past the donwload link address and using !curl function paste it and yes\n",
        "  #to presenrt it in a format manner you can use \" NABDATA.csv\" why using csv is to specify the file data and in a format also can use it BHP.csv) but after using \">\" after the link address.\n",
        "  #it will create a csv file in it and you can download it as well."
      ],
      "metadata": {
        "id": "fLGruaTOrSvD",
        "colab": {
          "base_uri": "https://localhost:8080/"
        },
        "outputId": "9aaf2e9f-5968-40ae-d7b5-4eb6119bf5e7"
      },
      "execution_count": 5,
      "outputs": [
        {
          "output_type": "stream",
          "name": "stdout",
          "text": [
            "  % Total    % Received % Xferd  Average Speed   Time    Time     Time  Current\n",
            "                                 Dload  Upload   Total   Spent    Left  Speed\n",
            "\r  0     0    0     0    0     0      0      0 --:--:-- --:--:-- --:--:--     0\r100  4531  100  4531    0     0  41568      0 --:--:-- --:--:-- --:--:-- 41953\n"
          ]
        }
      ]
    },
    {
      "cell_type": "code",
      "source": [
        "import csv\n",
        "\n",
        "#open file and write records\n",
        "with open(\"NABData.csv\", 'r')  as data:\n",
        "  reader = csv.reader(data)\n",
        "  print(next(reader))\n",
        "  print(next(reader))\n",
        "  print(next(reader))\n"
      ],
      "metadata": {
        "id": "8Mr72pnuwVt-",
        "colab": {
          "base_uri": "https://localhost:8080/"
        },
        "outputId": "bd0af922-386c-4842-faf8-49336faa92b2"
      },
      "execution_count": 6,
      "outputs": [
        {
          "output_type": "stream",
          "name": "stdout",
          "text": [
            "['Date', 'Open', 'High', 'Low', 'Close', 'Adj Close', 'Volume']\n",
            "['2022-05-20', '30.780001', '31.139999', '30.750000', '31.070000', '30.294741', '5341969']\n",
            "['2022-05-23', '31.070000', '31.150000', '30.735001', '30.780001', '30.011978', '4079073']\n"
          ]
        }
      ]
    },
    {
      "cell_type": "code",
      "source": [
        "import csv\n",
        "\n",
        "date = []\n",
        "close = []\n",
        "c = 0\n",
        "#open file and write records\n",
        "with open(\"NABData.csv\", 'r')  as data:\n",
        "  reader = csv.reader(data)\n",
        "  header = next(reader, None) #get the headers\n",
        "  #print(header)\n",
        "  for record in reader:\n",
        "    date.append(record[0])\n",
        "    close.append(float(record[5]))\n",
        "\n",
        "# plot the results\n",
        "from matplotlib import pyplot as plt\n",
        "f = plt.figure()\n",
        "f.set_figwidth(20)\n",
        "f.set_figheight(5)\n",
        "plt.plot(date, close)\n"
      ],
      "metadata": {
        "id": "BWv-WdWQrrIE",
        "colab": {
          "base_uri": "https://localhost:8080/",
          "height": 365
        },
        "outputId": "d2d0bf64-13cc-4958-ed66-205c56d4dcee"
      },
      "execution_count": 7,
      "outputs": [
        {
          "output_type": "execute_result",
          "data": {
            "text/plain": [
              "[<matplotlib.lines.Line2D at 0x7f37cc562c70>]"
            ]
          },
          "metadata": {},
          "execution_count": 7
        },
        {
          "output_type": "display_data",
          "data": {
            "text/plain": [
              "<Figure size 2000x500 with 1 Axes>"
            ],
            "image/png": "[encoded data removed]"
          },
          "metadata": {}
        }
      ]
    },
    {
      "cell_type": "code",
      "source": [
        "#1-Nasir's Practise Code.\n",
        "!curl \"https://query1.finance.yahoo.com/v7/finance/download/BHP.AX?period1=1649798542&period2=1681334542&interval=1d&events=history&includeAdjustedClose=true\">BHPData.csv"
      ],
      "metadata": {
        "colab": {
          "base_uri": "https://localhost:8080/"
        },
        "id": "3ZErBnmTtJho",
        "outputId": "7513ed6c-ade9-4b97-ec52-7fffed146a95"
      },
      "execution_count": 8,
      "outputs": [
        {
          "output_type": "stream",
          "name": "stdout",
          "text": [
            "  % Total    % Received % Xferd  Average Speed   Time    Time     Time  Current\n",
            "                                 Dload  Upload   Total   Spent    Left  Speed\n",
            "\r  0     0    0     0    0     0      0      0 --:--:-- --:--:-- --:--:--     0\r100 17399    0 17399    0     0   141k      0 --:--:-- --:--:-- --:--:--  141k\n"
          ]
        }
      ]
    },
    {
      "cell_type": "code",
      "source": [
        "#2- Nasir's Practise Code.\n",
        "import csv\n",
        "\n",
        "#open file and write records\n",
        "with open(\"BHPData.csv\", 'r')  as data:\n",
        "  reader = csv.reader(data)\n",
        "  print(next(reader))\n",
        "  print(next(reader))\n",
        "  print(next(reader))"
      ],
      "metadata": {
        "colab": {
          "base_uri": "https://localhost:8080/"
        },
        "id": "5WVDcoj7vCzr",
        "outputId": "7cd5a090-74a4-4169-de40-89d8dc8fa7c3"
      },
      "execution_count": 9,
      "outputs": [
        {
          "output_type": "stream",
          "name": "stdout",
          "text": [
            "['Date', 'Open', 'High', 'Low', 'Close', 'Adj Close', 'Volume']\n",
            "['2022-04-13', '51.849998', '52.029999', '51.470001', '51.779999', '47.136189', '7602532']\n",
            "['2022-04-14', '52.200001', '52.610001', '52.080002', '52.500000', '47.791618', '8994800']\n"
          ]
        }
      ]
    },
    {
      "cell_type": "code",
      "source": [
        "#3- Nasir's Practise Code.\n",
        "import csv\n",
        "\n",
        "date = []\n",
        "close = []\n",
        "c = 0\n",
        "#open file and write records\n",
        "with open(\"BHPData.csv\", 'r')  as data:\n",
        "  reader = csv.reader(data)\n",
        "  header = next(reader, None) #get the headers\n",
        "  #print(header)\n",
        "  for record in reader:\n",
        "    date.append(record[0])\n",
        "    close.append(float(record[5]))\n",
        "\n",
        "# plot the results\n",
        "from matplotlib import pyplot as plt\n",
        "f = plt.figure()\n",
        "f.set_figwidth(20)\n",
        "f.set_figheight(5)\n",
        "plt.plot(date, close)"
      ],
      "metadata": {
        "colab": {
          "base_uri": "https://localhost:8080/",
          "height": 365
        },
        "id": "ok2RatORvCwj",
        "outputId": "aa70f86c-cbbc-4b5b-fd25-fb2f1752e460"
      },
      "execution_count": 10,
      "outputs": [
        {
          "output_type": "execute_result",
          "data": {
            "text/plain": [
              "[<matplotlib.lines.Line2D at 0x7f37cc4d1790>]"
            ]
          },
          "metadata": {},
          "execution_count": 10
        },
        {
          "output_type": "display_data",
          "data": {
            "text/plain": [
              "<Figure size 2000x500 with 1 Axes>"
            ],
            "image/png": "[encoded data removed]"
          },
          "metadata": {}
        }
      ]
    },
    {
      "cell_type": "markdown",
      "source": [
        "# Module Pandas"
      ],
      "metadata": {
        "id": "3urnKWF4LPwK"
      }
    },
    {
      "cell_type": "markdown",
      "metadata": {
        "id": "fKUibINgWaEg"
      },
      "source": [
        "## Using Pandas Module to Read in CSV Files (the “Easy Way”)\n",
        "\n",
        "An easier method of importing files into Python is using the **Pandas** module. Pandas (name derived from “panel data”) is a data analysis library that, among other things, makes reading in CSV files and accessing the contained data much easier \n",
        "\n",
        "The primary data structure used in Pandas are a ***DataFrame***. A DataFrame has a *two-dimensional tabular format using rows and columns*. Using a DataFrame, we can reference columns by name, rather than having to count to figure out which column number we want. Pandas provides an assortment of methods like .mean() that will do summary statistics on our data\n",
        "\n",
        " \n",
        "Read From a CSV File Using Pandas\n",
        "\n",
        "Source: *Kaefer, F., & Kaefer, P. (2020). Introduction to Python \n",
        "Programming for Business and Social Science Applications. SAGE Publications, Inc. (US).*"
      ]
    },
    {
      "cell_type": "code",
      "source": [
        "#1-Nasir's Practise Code.\n",
        "import pandas as pnd"
      ],
      "metadata": {
        "id": "TUrcE9y9ztTo"
      },
      "execution_count": 11,
      "outputs": []
    },
    {
      "cell_type": "code",
      "source": [
        "#2- Nasir's Practise Code.\n",
        "pnd.read_csv(\"BHPData.csv\")      "
      ],
      "metadata": {
        "colab": {
          "base_uri": "https://localhost:8080/",
          "height": 424
        },
        "id": "313zwm3S0tJf",
        "outputId": "1a7436bb-62f6-4843-aeb5-8bafeca714b2"
      },
      "execution_count": 12,
      "outputs": [
        {
          "output_type": "execute_result",
          "data": {
            "text/plain": [
              "           Date       Open       High        Low      Close  Adj Close  \\\n",
              "0    2022-04-13  51.849998  52.029999  51.470001  51.779999  47.136189   \n",
              "1    2022-04-14  52.200001  52.610001  52.080002  52.500000  47.791618   \n",
              "2    2022-04-19  53.180000  53.720001  53.060001  53.169998  48.401527   \n",
              "3    2022-04-20  53.029999  53.099998  52.299999  52.299999  47.609554   \n",
              "4    2022-04-21  51.389999  51.590000  50.700001  50.700001  46.153046   \n",
              "..          ...        ...        ...        ...        ...        ...   \n",
              "245  2023-04-04  46.549999  46.570000  45.889999  45.939999  45.939999   \n",
              "246  2023-04-05  45.049999  45.330002  44.930000  45.240002  45.240002   \n",
              "247  2023-04-06  45.099998  45.355000  44.919998  45.049999  45.049999   \n",
              "248  2023-04-11  45.549999  46.040001  45.480000  45.980000  45.980000   \n",
              "249  2023-04-12  46.959999  47.400002  46.770000  46.904999  46.904999   \n",
              "\n",
              "       Volume  \n",
              "0     7602532  \n",
              "1     8994800  \n",
              "2     8285661  \n",
              "3     8897006  \n",
              "4    13882138  \n",
              "..        ...  \n",
              "245   8571794  \n",
              "246   6957691  \n",
              "247   5314949  \n",
              "248   7264777  \n",
              "249   4532914  \n",
              "\n",
              "[250 rows x 7 columns]"
            ],
            "text/html": [
              "\n",
              "  <div id=\"df-bcbc5151-603a-4558-9ecb-7b69943de30d\">\n",
              "    <div class=\"colab-df-container\">\n",
              "      <div>\n",
              "<style scoped>\n",
              "    .dataframe tbody tr th:only-of-type {\n",
              "        vertical-align: middle;\n",
              "    }\n",
              "\n",
              "    .dataframe tbody tr th {\n",
              "        vertical-align: top;\n",
              "    }\n",
              "\n",
              "    .dataframe thead th {\n",
              "        text-align: right;\n",
              "    }\n",
              "</style>\n",
              "<table border=\"1\" class=\"dataframe\">\n",
              "  <thead>\n",
              "    <tr style=\"text-align: right;\">\n",
              "      <th></th>\n",
              "      <th>Date</th>\n",
              "      <th>Open</th>\n",
              "      <th>High</th>\n",
              "      <th>Low</th>\n",
              "      <th>Close</th>\n",
              "      <th>Adj Close</th>\n",
              "      <th>Volume</th>\n",
              "    </tr>\n",
              "  </thead>\n",
              "  <tbody>\n",
              "    <tr>\n",
              "      <th>0</th>\n",
              "      <td>2022-04-13</td>\n",
              "      <td>51.849998</td>\n",
              "      <td>52.029999</td>\n",
              "      <td>51.470001</td>\n",
              "      <td>51.779999</td>\n",
              "      <td>47.136189</td>\n",
              "      <td>7602532</td>\n",
              "    </tr>\n",
              "    <tr>\n",
              "      <th>1</th>\n",
              "      <td>2022-04-14</td>\n",
              "      <td>52.200001</td>\n",
              "      <td>52.610001</td>\n",
              "      <td>52.080002</td>\n",
              "      <td>52.500000</td>\n",
              "      <td>47.791618</td>\n",
              "      <td>8994800</td>\n",
              "    </tr>\n",
              "    <tr>\n",
              "      <th>2</th>\n",
              "      <td>2022-04-19</td>\n",
              "      <td>53.180000</td>\n",
              "      <td>53.720001</td>\n",
              "      <td>53.060001</td>\n",
              "      <td>53.169998</td>\n",
              "      <td>48.401527</td>\n",
              "      <td>8285661</td>\n",
              "    </tr>\n",
              "    <tr>\n",
              "      <th>3</th>\n",
              "      <td>2022-04-20</td>\n",
              "      <td>53.029999</td>\n",
              "      <td>53.099998</td>\n",
              "      <td>52.299999</td>\n",
              "      <td>52.299999</td>\n",
              "      <td>47.609554</td>\n",
              "      <td>8897006</td>\n",
              "    </tr>\n",
              "    <tr>\n",
              "      <th>4</th>\n",
              "      <td>2022-04-21</td>\n",
              "      <td>51.389999</td>\n",
              "      <td>51.590000</td>\n",
              "      <td>50.700001</td>\n",
              "      <td>50.700001</td>\n",
              "      <td>46.153046</td>\n",
              "      <td>13882138</td>\n",
              "    </tr>\n",
              "    <tr>\n",
              "      <th>...</th>\n",
              "      <td>...</td>\n",
              "      <td>...</td>\n",
              "      <td>...</td>\n",
              "      <td>...</td>\n",
              "      <td>...</td>\n",
              "      <td>...</td>\n",
              "      <td>...</td>\n",
              "    </tr>\n",
              "    <tr>\n",
              "      <th>245</th>\n",
              "      <td>2023-04-04</td>\n",
              "      <td>46.549999</td>\n",
              "      <td>46.570000</td>\n",
              "      <td>45.889999</td>\n",
              "      <td>45.939999</td>\n",
              "      <td>45.939999</td>\n",
              "      <td>8571794</td>\n",
              "    </tr>\n",
              "    <tr>\n",
              "      <th>246</th>\n",
              "      <td>2023-04-05</td>\n",
              "      <td>45.049999</td>\n",
              "      <td>45.330002</td>\n",
              "      <td>44.930000</td>\n",
              "      <td>45.240002</td>\n",
              "      <td>45.240002</td>\n",
              "      <td>6957691</td>\n",
              "    </tr>\n",
              "    <tr>\n",
              "      <th>247</th>\n",
              "      <td>2023-04-06</td>\n",
              "      <td>45.099998</td>\n",
              "      <td>45.355000</td>\n",
              "      <td>44.919998</td>\n",
              "      <td>45.049999</td>\n",
              "      <td>45.049999</td>\n",
              "      <td>5314949</td>\n",
              "    </tr>\n",
              "    <tr>\n",
              "      <th>248</th>\n",
              "      <td>2023-04-11</td>\n",
              "      <td>45.549999</td>\n",
              "      <td>46.040001</td>\n",
              "      <td>45.480000</td>\n",
              "      <td>45.980000</td>\n",
              "      <td>45.980000</td>\n",
              "      <td>7264777</td>\n",
              "    </tr>\n",
              "    <tr>\n",
              "      <th>249</th>\n",
              "      <td>2023-04-12</td>\n",
              "      <td>46.959999</td>\n",
              "      <td>47.400002</td>\n",
              "      <td>46.770000</td>\n",
              "      <td>46.904999</td>\n",
              "      <td>46.904999</td>\n",
              "      <td>4532914</td>\n",
              "    </tr>\n",
              "  </tbody>\n",
              "</table>\n",
              "<p>250 rows × 7 columns</p>\n",
              "</div>\n",
              "      <button class=\"colab-df-convert\" onclick=\"convertToInteractive('df-bcbc5151-603a-4558-9ecb-7b69943de30d')\"\n",
              "              title=\"Convert this dataframe to an interactive table.\"\n",
              "              style=\"display:none;\">\n",
              "        \n",
              "  <svg xmlns=\"http://www.w3.org/2000/svg\" height=\"24px\"viewBox=\"0 0 24 24\"\n",
              "       width=\"24px\">\n",
              "    <path d=\"M0 0h24v24H0V0z\" fill=\"none\"/>\n",
              "    <path d=\"M18.56 5.44l.94 2.06.94-2.06 2.06-.94-2.06-.94-.94-2.06-.94 2.06-2.06.94zm-11 1L8.5 8.5l.94-2.06 2.06-.94-2.06-.94L8.5 2.5l-.94 2.06-2.06.94zm10 10l.94 2.06.94-2.06 2.06-.94-2.06-.94-.94-2.06-.94 2.06-2.06.94z\"/><path d=\"M17.41 7.96l-1.37-1.37c-.4-.4-.92-.59-1.43-.59-.52 0-1.04.2-1.43.59L10.3 9.45l-7.72 7.72c-.78.78-.78 2.05 0 2.83L4 21.41c.39.39.9.59 1.41.59.51 0 1.02-.2 1.41-.59l7.78-7.78 2.81-2.81c.8-.78.8-2.07 0-2.86zM5.41 20L4 18.59l7.72-7.72 1.47 1.35L5.41 20z\"/>\n",
              "  </svg>\n",
              "      </button>\n",
              "      \n",
              "  <style>\n",
              "    .colab-df-container {\n",
              "      display:flex;\n",
              "      flex-wrap:wrap;\n",
              "      gap: 12px;\n",
              "    }\n",
              "\n",
              "    .colab-df-convert {\n",
              "      background-color: #E8F0FE;\n",
              "      border: none;\n",
              "      border-radius: 50%;\n",
              "      cursor: pointer;\n",
              "      display: none;\n",
              "      fill: #1967D2;\n",
              "      height: 32px;\n",
              "      padding: 0 0 0 0;\n",
              "      width: 32px;\n",
              "    }\n",
              "\n",
              "    .colab-df-convert:hover {\n",
              "      background-color: #E2EBFA;\n",
              "      box-shadow: 0px 1px 2px rgba(60, 64, 67, 0.3), 0px 1px 3px 1px rgba(60, 64, 67, 0.15);\n",
              "      fill: #174EA6;\n",
              "    }\n",
              "\n",
              "    [theme=dark] .colab-df-convert {\n",
              "      background-color: #3B4455;\n",
              "      fill: #D2E3FC;\n",
              "    }\n",
              "\n",
              "    [theme=dark] .colab-df-convert:hover {\n",
              "      background-color: #434B5C;\n",
              "      box-shadow: 0px 1px 3px 1px rgba(0, 0, 0, 0.15);\n",
              "      filter: drop-shadow(0px 1px 2px rgba(0, 0, 0, 0.3));\n",
              "      fill: #FFFFFF;\n",
              "    }\n",
              "  </style>\n",
              "\n",
              "      <script>\n",
              "        const buttonEl =\n",
              "          document.querySelector('#df-bcbc5151-603a-4558-9ecb-7b69943de30d button.colab-df-convert');\n",
              "        buttonEl.style.display =\n",
              "          google.colab.kernel.accessAllowed ? 'block' : 'none';\n",
              "\n",
              "        async function convertToInteractive(key) {\n",
              "          const element = document.querySelector('#df-bcbc5151-603a-4558-9ecb-7b69943de30d');\n",
              "          const dataTable =\n",
              "            await google.colab.kernel.invokeFunction('convertToInteractive',\n",
              "                                                     [key], {});\n",
              "          if (!dataTable) return;\n",
              "\n",
              "          const docLinkHtml = 'Like what you see? Visit the ' +\n",
              "            '<a target=\"_blank\" href=https://colab.research.google.com/notebooks/data_table.ipynb>data table notebook</a>'\n",
              "            + ' to learn more about interactive tables.';\n",
              "          element.innerHTML = '';\n",
              "          dataTable['output_type'] = 'display_data';\n",
              "          await google.colab.output.renderOutput(dataTable, element);\n",
              "          const docLink = document.createElement('div');\n",
              "          docLink.innerHTML = docLinkHtml;\n",
              "          element.appendChild(docLink);\n",
              "        }\n",
              "      </script>\n",
              "    </div>\n",
              "  </div>\n",
              "  "
            ]
          },
          "metadata": {},
          "execution_count": 12
        }
      ]
    },
    {
      "cell_type": "code",
      "source": [
        "#3- Nasir's Practise Code.\n",
        "df = pnd.read_csv(\"BHPData.csv\")      #using data frame (df) as variable to take it into variable."
      ],
      "metadata": {
        "id": "VHTl0RF1zyW_"
      },
      "execution_count": 13,
      "outputs": []
    },
    {
      "cell_type": "code",
      "source": [
        "# 4- Nasir's Practise Code.    #(here we can play with data as we aready assign to a variable)\n",
        "df.head\n",
        "df.tail"
      ],
      "metadata": {
        "colab": {
          "base_uri": "https://localhost:8080/"
        },
        "id": "g5SUlDXS0MEQ",
        "outputId": "91371a47-8694-498d-8f97-74c8a36cba45"
      },
      "execution_count": 14,
      "outputs": [
        {
          "output_type": "execute_result",
          "data": {
            "text/plain": [
              "<bound method NDFrame.tail of            Date       Open       High        Low      Close  Adj Close  \\\n",
              "0    2022-04-13  51.849998  52.029999  51.470001  51.779999  47.136189   \n",
              "1    2022-04-14  52.200001  52.610001  52.080002  52.500000  47.791618   \n",
              "2    2022-04-19  53.180000  53.720001  53.060001  53.169998  48.401527   \n",
              "3    2022-04-20  53.029999  53.099998  52.299999  52.299999  47.609554   \n",
              "4    2022-04-21  51.389999  51.590000  50.700001  50.700001  46.153046   \n",
              "..          ...        ...        ...        ...        ...        ...   \n",
              "245  2023-04-04  46.549999  46.570000  45.889999  45.939999  45.939999   \n",
              "246  2023-04-05  45.049999  45.330002  44.930000  45.240002  45.240002   \n",
              "247  2023-04-06  45.099998  45.355000  44.919998  45.049999  45.049999   \n",
              "248  2023-04-11  45.549999  46.040001  45.480000  45.980000  45.980000   \n",
              "249  2023-04-12  46.959999  47.400002  46.770000  46.904999  46.904999   \n",
              "\n",
              "       Volume  \n",
              "0     7602532  \n",
              "1     8994800  \n",
              "2     8285661  \n",
              "3     8897006  \n",
              "4    13882138  \n",
              "..        ...  \n",
              "245   8571794  \n",
              "246   6957691  \n",
              "247   5314949  \n",
              "248   7264777  \n",
              "249   4532914  \n",
              "\n",
              "[250 rows x 7 columns]>"
            ]
          },
          "metadata": {},
          "execution_count": 14
        }
      ]
    },
    {
      "cell_type": "code",
      "source": [
        "#5- Nasir's Practise Code\n",
        "df.info()          #what type of data you're working using this to findout."
      ],
      "metadata": {
        "colab": {
          "base_uri": "https://localhost:8080/"
        },
        "id": "75_Ja7dx08Bm",
        "outputId": "a523cd0f-e685-49ca-901b-cb4eabd1bab4"
      },
      "execution_count": 15,
      "outputs": [
        {
          "output_type": "stream",
          "name": "stdout",
          "text": [
            "<class 'pandas.core.frame.DataFrame'>\n",
            "RangeIndex: 250 entries, 0 to 249\n",
            "Data columns (total 7 columns):\n",
            " #   Column     Non-Null Count  Dtype  \n",
            "---  ------     --------------  -----  \n",
            " 0   Date       250 non-null    object \n",
            " 1   Open       250 non-null    float64\n",
            " 2   High       250 non-null    float64\n",
            " 3   Low        250 non-null    float64\n",
            " 4   Close      250 non-null    float64\n",
            " 5   Adj Close  250 non-null    float64\n",
            " 6   Volume     250 non-null    int64  \n",
            "dtypes: float64(5), int64(1), object(1)\n",
            "memory usage: 13.8+ KB\n"
          ]
        }
      ]
    },
    {
      "cell_type": "code",
      "source": [
        "#6- Nasir Practise Code.\n",
        "print(df)"
      ],
      "metadata": {
        "id": "gDolVhpX1IeO",
        "colab": {
          "base_uri": "https://localhost:8080/"
        },
        "outputId": "9649cf3b-f422-4140-87cc-bb8549001ce3"
      },
      "execution_count": 16,
      "outputs": [
        {
          "output_type": "stream",
          "name": "stdout",
          "text": [
            "           Date       Open       High        Low      Close  Adj Close  \\\n",
            "0    2022-04-13  51.849998  52.029999  51.470001  51.779999  47.136189   \n",
            "1    2022-04-14  52.200001  52.610001  52.080002  52.500000  47.791618   \n",
            "2    2022-04-19  53.180000  53.720001  53.060001  53.169998  48.401527   \n",
            "3    2022-04-20  53.029999  53.099998  52.299999  52.299999  47.609554   \n",
            "4    2022-04-21  51.389999  51.590000  50.700001  50.700001  46.153046   \n",
            "..          ...        ...        ...        ...        ...        ...   \n",
            "245  2023-04-04  46.549999  46.570000  45.889999  45.939999  45.939999   \n",
            "246  2023-04-05  45.049999  45.330002  44.930000  45.240002  45.240002   \n",
            "247  2023-04-06  45.099998  45.355000  44.919998  45.049999  45.049999   \n",
            "248  2023-04-11  45.549999  46.040001  45.480000  45.980000  45.980000   \n",
            "249  2023-04-12  46.959999  47.400002  46.770000  46.904999  46.904999   \n",
            "\n",
            "       Volume  \n",
            "0     7602532  \n",
            "1     8994800  \n",
            "2     8285661  \n",
            "3     8897006  \n",
            "4    13882138  \n",
            "..        ...  \n",
            "245   8571794  \n",
            "246   6957691  \n",
            "247   5314949  \n",
            "248   7264777  \n",
            "249   4532914  \n",
            "\n",
            "[250 rows x 7 columns]\n"
          ]
        }
      ]
    },
    {
      "cell_type": "code",
      "source": [
        "#7- Nasir's Practise Code\n",
        "df.drop(61)    #using to drop 61 rows in the data sets to eliminate the null values to make the data more refined.\n"
      ],
      "metadata": {
        "id": "BsSmJRxg1pp-",
        "colab": {
          "base_uri": "https://localhost:8080/",
          "height": 424
        },
        "outputId": "a3991cae-80e3-4048-e78c-b1542f745484"
      },
      "execution_count": 24,
      "outputs": [
        {
          "output_type": "execute_result",
          "data": {
            "text/plain": [
              "           Date       Open       High        Low      Close  Adj Close  \\\n",
              "0    2022-04-13  51.849998  52.029999  51.470001  51.779999  47.136189   \n",
              "1    2022-04-14  52.200001  52.610001  52.080002  52.500000  47.791618   \n",
              "2    2022-04-19  53.180000  53.720001  53.060001  53.169998  48.401527   \n",
              "3    2022-04-20  53.029999  53.099998  52.299999  52.299999  47.609554   \n",
              "4    2022-04-21  51.389999  51.590000  50.700001  50.700001  46.153046   \n",
              "..          ...        ...        ...        ...        ...        ...   \n",
              "245  2023-04-04  46.549999  46.570000  45.889999  45.939999  45.939999   \n",
              "246  2023-04-05  45.049999  45.330002  44.930000  45.240002  45.240002   \n",
              "247  2023-04-06  45.099998  45.355000  44.919998  45.049999  45.049999   \n",
              "248  2023-04-11  45.549999  46.040001  45.480000  45.980000  45.980000   \n",
              "249  2023-04-12  46.959999  47.400002  46.770000  46.904999  46.904999   \n",
              "\n",
              "       Volume  \n",
              "0     7602532  \n",
              "1     8994800  \n",
              "2     8285661  \n",
              "3     8897006  \n",
              "4    13882138  \n",
              "..        ...  \n",
              "245   8571794  \n",
              "246   6957691  \n",
              "247   5314949  \n",
              "248   7264777  \n",
              "249   4532914  \n",
              "\n",
              "[249 rows x 7 columns]"
            ],
            "text/html": [
              "\n",
              "  <div id=\"df-deeab82f-cff3-4dbf-9bd2-fa4e647ad6e4\">\n",
              "    <div class=\"colab-df-container\">\n",
              "      <div>\n",
              "<style scoped>\n",
              "    .dataframe tbody tr th:only-of-type {\n",
              "        vertical-align: middle;\n",
              "    }\n",
              "\n",
              "    .dataframe tbody tr th {\n",
              "        vertical-align: top;\n",
              "    }\n",
              "\n",
              "    .dataframe thead th {\n",
              "        text-align: right;\n",
              "    }\n",
              "</style>\n",
              "<table border=\"1\" class=\"dataframe\">\n",
              "  <thead>\n",
              "    <tr style=\"text-align: right;\">\n",
              "      <th></th>\n",
              "      <th>Date</th>\n",
              "      <th>Open</th>\n",
              "      <th>High</th>\n",
              "      <th>Low</th>\n",
              "      <th>Close</th>\n",
              "      <th>Adj Close</th>\n",
              "      <th>Volume</th>\n",
              "    </tr>\n",
              "  </thead>\n",
              "  <tbody>\n",
              "    <tr>\n",
              "      <th>0</th>\n",
              "      <td>2022-04-13</td>\n",
              "      <td>51.849998</td>\n",
              "      <td>52.029999</td>\n",
              "      <td>51.470001</td>\n",
              "      <td>51.779999</td>\n",
              "      <td>47.136189</td>\n",
              "      <td>7602532</td>\n",
              "    </tr>\n",
              "    <tr>\n",
              "      <th>1</th>\n",
              "      <td>2022-04-14</td>\n",
              "      <td>52.200001</td>\n",
              "      <td>52.610001</td>\n",
              "      <td>52.080002</td>\n",
              "      <td>52.500000</td>\n",
              "      <td>47.791618</td>\n",
              "      <td>8994800</td>\n",
              "    </tr>\n",
              "    <tr>\n",
              "      <th>2</th>\n",
              "      <td>2022-04-19</td>\n",
              "      <td>53.180000</td>\n",
              "      <td>53.720001</td>\n",
              "      <td>53.060001</td>\n",
              "      <td>53.169998</td>\n",
              "      <td>48.401527</td>\n",
              "      <td>8285661</td>\n",
              "    </tr>\n",
              "    <tr>\n",
              "      <th>3</th>\n",
              "      <td>2022-04-20</td>\n",
              "      <td>53.029999</td>\n",
              "      <td>53.099998</td>\n",
              "      <td>52.299999</td>\n",
              "      <td>52.299999</td>\n",
              "      <td>47.609554</td>\n",
              "      <td>8897006</td>\n",
              "    </tr>\n",
              "    <tr>\n",
              "      <th>4</th>\n",
              "      <td>2022-04-21</td>\n",
              "      <td>51.389999</td>\n",
              "      <td>51.590000</td>\n",
              "      <td>50.700001</td>\n",
              "      <td>50.700001</td>\n",
              "      <td>46.153046</td>\n",
              "      <td>13882138</td>\n",
              "    </tr>\n",
              "    <tr>\n",
              "      <th>...</th>\n",
              "      <td>...</td>\n",
              "      <td>...</td>\n",
              "      <td>...</td>\n",
              "      <td>...</td>\n",
              "      <td>...</td>\n",
              "      <td>...</td>\n",
              "      <td>...</td>\n",
              "    </tr>\n",
              "    <tr>\n",
              "      <th>245</th>\n",
              "      <td>2023-04-04</td>\n",
              "      <td>46.549999</td>\n",
              "      <td>46.570000</td>\n",
              "      <td>45.889999</td>\n",
              "      <td>45.939999</td>\n",
              "      <td>45.939999</td>\n",
              "      <td>8571794</td>\n",
              "    </tr>\n",
              "    <tr>\n",
              "      <th>246</th>\n",
              "      <td>2023-04-05</td>\n",
              "      <td>45.049999</td>\n",
              "      <td>45.330002</td>\n",
              "      <td>44.930000</td>\n",
              "      <td>45.240002</td>\n",
              "      <td>45.240002</td>\n",
              "      <td>6957691</td>\n",
              "    </tr>\n",
              "    <tr>\n",
              "      <th>247</th>\n",
              "      <td>2023-04-06</td>\n",
              "      <td>45.099998</td>\n",
              "      <td>45.355000</td>\n",
              "      <td>44.919998</td>\n",
              "      <td>45.049999</td>\n",
              "      <td>45.049999</td>\n",
              "      <td>5314949</td>\n",
              "    </tr>\n",
              "    <tr>\n",
              "      <th>248</th>\n",
              "      <td>2023-04-11</td>\n",
              "      <td>45.549999</td>\n",
              "      <td>46.040001</td>\n",
              "      <td>45.480000</td>\n",
              "      <td>45.980000</td>\n",
              "      <td>45.980000</td>\n",
              "      <td>7264777</td>\n",
              "    </tr>\n",
              "    <tr>\n",
              "      <th>249</th>\n",
              "      <td>2023-04-12</td>\n",
              "      <td>46.959999</td>\n",
              "      <td>47.400002</td>\n",
              "      <td>46.770000</td>\n",
              "      <td>46.904999</td>\n",
              "      <td>46.904999</td>\n",
              "      <td>4532914</td>\n",
              "    </tr>\n",
              "  </tbody>\n",
              "</table>\n",
              "<p>249 rows × 7 columns</p>\n",
              "</div>\n",
              "      <button class=\"colab-df-convert\" onclick=\"convertToInteractive('df-deeab82f-cff3-4dbf-9bd2-fa4e647ad6e4')\"\n",
              "              title=\"Convert this dataframe to an interactive table.\"\n",
              "              style=\"display:none;\">\n",
              "        \n",
              "  <svg xmlns=\"http://www.w3.org/2000/svg\" height=\"24px\"viewBox=\"0 0 24 24\"\n",
              "       width=\"24px\">\n",
              "    <path d=\"M0 0h24v24H0V0z\" fill=\"none\"/>\n",
              "    <path d=\"M18.56 5.44l.94 2.06.94-2.06 2.06-.94-2.06-.94-.94-2.06-.94 2.06-2.06.94zm-11 1L8.5 8.5l.94-2.06 2.06-.94-2.06-.94L8.5 2.5l-.94 2.06-2.06.94zm10 10l.94 2.06.94-2.06 2.06-.94-2.06-.94-.94-2.06-.94 2.06-2.06.94z\"/><path d=\"M17.41 7.96l-1.37-1.37c-.4-.4-.92-.59-1.43-.59-.52 0-1.04.2-1.43.59L10.3 9.45l-7.72 7.72c-.78.78-.78 2.05 0 2.83L4 21.41c.39.39.9.59 1.41.59.51 0 1.02-.2 1.41-.59l7.78-7.78 2.81-2.81c.8-.78.8-2.07 0-2.86zM5.41 20L4 18.59l7.72-7.72 1.47 1.35L5.41 20z\"/>\n",
              "  </svg>\n",
              "      </button>\n",
              "      \n",
              "  <style>\n",
              "    .colab-df-container {\n",
              "      display:flex;\n",
              "      flex-wrap:wrap;\n",
              "      gap: 12px;\n",
              "    }\n",
              "\n",
              "    .colab-df-convert {\n",
              "      background-color: #E8F0FE;\n",
              "      border: none;\n",
              "      border-radius: 50%;\n",
              "      cursor: pointer;\n",
              "      display: none;\n",
              "      fill: #1967D2;\n",
              "      height: 32px;\n",
              "      padding: 0 0 0 0;\n",
              "      width: 32px;\n",
              "    }\n",
              "\n",
              "    .colab-df-convert:hover {\n",
              "      background-color: #E2EBFA;\n",
              "      box-shadow: 0px 1px 2px rgba(60, 64, 67, 0.3), 0px 1px 3px 1px rgba(60, 64, 67, 0.15);\n",
              "      fill: #174EA6;\n",
              "    }\n",
              "\n",
              "    [theme=dark] .colab-df-convert {\n",
              "      background-color: #3B4455;\n",
              "      fill: #D2E3FC;\n",
              "    }\n",
              "\n",
              "    [theme=dark] .colab-df-convert:hover {\n",
              "      background-color: #434B5C;\n",
              "      box-shadow: 0px 1px 3px 1px rgba(0, 0, 0, 0.15);\n",
              "      filter: drop-shadow(0px 1px 2px rgba(0, 0, 0, 0.3));\n",
              "      fill: #FFFFFF;\n",
              "    }\n",
              "  </style>\n",
              "\n",
              "      <script>\n",
              "        const buttonEl =\n",
              "          document.querySelector('#df-deeab82f-cff3-4dbf-9bd2-fa4e647ad6e4 button.colab-df-convert');\n",
              "        buttonEl.style.display =\n",
              "          google.colab.kernel.accessAllowed ? 'block' : 'none';\n",
              "\n",
              "        async function convertToInteractive(key) {\n",
              "          const element = document.querySelector('#df-deeab82f-cff3-4dbf-9bd2-fa4e647ad6e4');\n",
              "          const dataTable =\n",
              "            await google.colab.kernel.invokeFunction('convertToInteractive',\n",
              "                                                     [key], {});\n",
              "          if (!dataTable) return;\n",
              "\n",
              "          const docLinkHtml = 'Like what you see? Visit the ' +\n",
              "            '<a target=\"_blank\" href=https://colab.research.google.com/notebooks/data_table.ipynb>data table notebook</a>'\n",
              "            + ' to learn more about interactive tables.';\n",
              "          element.innerHTML = '';\n",
              "          dataTable['output_type'] = 'display_data';\n",
              "          await google.colab.output.renderOutput(dataTable, element);\n",
              "          const docLink = document.createElement('div');\n",
              "          docLink.innerHTML = docLinkHtml;\n",
              "          element.appendChild(docLink);\n",
              "        }\n",
              "      </script>\n",
              "    </div>\n",
              "  </div>\n",
              "  "
            ]
          },
          "metadata": {},
          "execution_count": 24
        }
      ]
    },
    {
      "cell_type": "code",
      "source": [
        "#8- Nasir's Code\n",
        "df.describe()    #to describe the data in foramt you want to know. (now there's no null values in this data set)"
      ],
      "metadata": {
        "colab": {
          "base_uri": "https://localhost:8080/",
          "height": 300
        },
        "id": "BiUIgCXl16Ix",
        "outputId": "1f612a48-631c-4c4f-e7e2-103c14abbaf8"
      },
      "execution_count": 23,
      "outputs": [
        {
          "output_type": "execute_result",
          "data": {
            "text/plain": [
              "             Open        High         Low       Close   Adj Close  \\\n",
              "count  250.000000  250.000000  250.000000  250.000000  250.000000   \n",
              "mean    43.360087   43.733957   42.991826   43.346451   41.219364   \n",
              "std      4.099614    4.085402    4.102762    4.107884    4.404865   \n",
              "min     36.000000   36.220001   35.830002   36.099998   32.862427   \n",
              "25%     39.432499   39.724999   39.044999   39.262500   37.402612   \n",
              "50%     43.735000   44.065000   43.402501   43.865000   41.565052   \n",
              "75%     46.587498   46.927501   46.200001   46.552501   45.024999   \n",
              "max     53.180000   53.720001   53.060001   53.169998   48.519943   \n",
              "\n",
              "             Volume  \n",
              "count  2.500000e+02  \n",
              "mean   1.007258e+07  \n",
              "std    3.561059e+06  \n",
              "min    3.886208e+06  \n",
              "25%    7.754679e+06  \n",
              "50%    9.246572e+06  \n",
              "75%    1.164512e+07  \n",
              "max    2.670439e+07  "
            ],
            "text/html": [
              "\n",
              "  <div id=\"df-33052174-cc6f-4141-9887-aa1fcd7a65e4\">\n",
              "    <div class=\"colab-df-container\">\n",
              "      <div>\n",
              "<style scoped>\n",
              "    .dataframe tbody tr th:only-of-type {\n",
              "        vertical-align: middle;\n",
              "    }\n",
              "\n",
              "    .dataframe tbody tr th {\n",
              "        vertical-align: top;\n",
              "    }\n",
              "\n",
              "    .dataframe thead th {\n",
              "        text-align: right;\n",
              "    }\n",
              "</style>\n",
              "<table border=\"1\" class=\"dataframe\">\n",
              "  <thead>\n",
              "    <tr style=\"text-align: right;\">\n",
              "      <th></th>\n",
              "      <th>Open</th>\n",
              "      <th>High</th>\n",
              "      <th>Low</th>\n",
              "      <th>Close</th>\n",
              "      <th>Adj Close</th>\n",
              "      <th>Volume</th>\n",
              "    </tr>\n",
              "  </thead>\n",
              "  <tbody>\n",
              "    <tr>\n",
              "      <th>count</th>\n",
              "      <td>250.000000</td>\n",
              "      <td>250.000000</td>\n",
              "      <td>250.000000</td>\n",
              "      <td>250.000000</td>\n",
              "      <td>250.000000</td>\n",
              "      <td>2.500000e+02</td>\n",
              "    </tr>\n",
              "    <tr>\n",
              "      <th>mean</th>\n",
              "      <td>43.360087</td>\n",
              "      <td>43.733957</td>\n",
              "      <td>42.991826</td>\n",
              "      <td>43.346451</td>\n",
              "      <td>41.219364</td>\n",
              "      <td>1.007258e+07</td>\n",
              "    </tr>\n",
              "    <tr>\n",
              "      <th>std</th>\n",
              "      <td>4.099614</td>\n",
              "      <td>4.085402</td>\n",
              "      <td>4.102762</td>\n",
              "      <td>4.107884</td>\n",
              "      <td>4.404865</td>\n",
              "      <td>3.561059e+06</td>\n",
              "    </tr>\n",
              "    <tr>\n",
              "      <th>min</th>\n",
              "      <td>36.000000</td>\n",
              "      <td>36.220001</td>\n",
              "      <td>35.830002</td>\n",
              "      <td>36.099998</td>\n",
              "      <td>32.862427</td>\n",
              "      <td>3.886208e+06</td>\n",
              "    </tr>\n",
              "    <tr>\n",
              "      <th>25%</th>\n",
              "      <td>39.432499</td>\n",
              "      <td>39.724999</td>\n",
              "      <td>39.044999</td>\n",
              "      <td>39.262500</td>\n",
              "      <td>37.402612</td>\n",
              "      <td>7.754679e+06</td>\n",
              "    </tr>\n",
              "    <tr>\n",
              "      <th>50%</th>\n",
              "      <td>43.735000</td>\n",
              "      <td>44.065000</td>\n",
              "      <td>43.402501</td>\n",
              "      <td>43.865000</td>\n",
              "      <td>41.565052</td>\n",
              "      <td>9.246572e+06</td>\n",
              "    </tr>\n",
              "    <tr>\n",
              "      <th>75%</th>\n",
              "      <td>46.587498</td>\n",
              "      <td>46.927501</td>\n",
              "      <td>46.200001</td>\n",
              "      <td>46.552501</td>\n",
              "      <td>45.024999</td>\n",
              "      <td>1.164512e+07</td>\n",
              "    </tr>\n",
              "    <tr>\n",
              "      <th>max</th>\n",
              "      <td>53.180000</td>\n",
              "      <td>53.720001</td>\n",
              "      <td>53.060001</td>\n",
              "      <td>53.169998</td>\n",
              "      <td>48.519943</td>\n",
              "      <td>2.670439e+07</td>\n",
              "    </tr>\n",
              "  </tbody>\n",
              "</table>\n",
              "</div>\n",
              "      <button class=\"colab-df-convert\" onclick=\"convertToInteractive('df-33052174-cc6f-4141-9887-aa1fcd7a65e4')\"\n",
              "              title=\"Convert this dataframe to an interactive table.\"\n",
              "              style=\"display:none;\">\n",
              "        \n",
              "  <svg xmlns=\"http://www.w3.org/2000/svg\" height=\"24px\"viewBox=\"0 0 24 24\"\n",
              "       width=\"24px\">\n",
              "    <path d=\"M0 0h24v24H0V0z\" fill=\"none\"/>\n",
              "    <path d=\"M18.56 5.44l.94 2.06.94-2.06 2.06-.94-2.06-.94-.94-2.06-.94 2.06-2.06.94zm-11 1L8.5 8.5l.94-2.06 2.06-.94-2.06-.94L8.5 2.5l-.94 2.06-2.06.94zm10 10l.94 2.06.94-2.06 2.06-.94-2.06-.94-.94-2.06-.94 2.06-2.06.94z\"/><path d=\"M17.41 7.96l-1.37-1.37c-.4-.4-.92-.59-1.43-.59-.52 0-1.04.2-1.43.59L10.3 9.45l-7.72 7.72c-.78.78-.78 2.05 0 2.83L4 21.41c.39.39.9.59 1.41.59.51 0 1.02-.2 1.41-.59l7.78-7.78 2.81-2.81c.8-.78.8-2.07 0-2.86zM5.41 20L4 18.59l7.72-7.72 1.47 1.35L5.41 20z\"/>\n",
              "  </svg>\n",
              "      </button>\n",
              "      \n",
              "  <style>\n",
              "    .colab-df-container {\n",
              "      display:flex;\n",
              "      flex-wrap:wrap;\n",
              "      gap: 12px;\n",
              "    }\n",
              "\n",
              "    .colab-df-convert {\n",
              "      background-color: #E8F0FE;\n",
              "      border: none;\n",
              "      border-radius: 50%;\n",
              "      cursor: pointer;\n",
              "      display: none;\n",
              "      fill: #1967D2;\n",
              "      height: 32px;\n",
              "      padding: 0 0 0 0;\n",
              "      width: 32px;\n",
              "    }\n",
              "\n",
              "    .colab-df-convert:hover {\n",
              "      background-color: #E2EBFA;\n",
              "      box-shadow: 0px 1px 2px rgba(60, 64, 67, 0.3), 0px 1px 3px 1px rgba(60, 64, 67, 0.15);\n",
              "      fill: #174EA6;\n",
              "    }\n",
              "\n",
              "    [theme=dark] .colab-df-convert {\n",
              "      background-color: #3B4455;\n",
              "      fill: #D2E3FC;\n",
              "    }\n",
              "\n",
              "    [theme=dark] .colab-df-convert:hover {\n",
              "      background-color: #434B5C;\n",
              "      box-shadow: 0px 1px 3px 1px rgba(0, 0, 0, 0.15);\n",
              "      filter: drop-shadow(0px 1px 2px rgba(0, 0, 0, 0.3));\n",
              "      fill: #FFFFFF;\n",
              "    }\n",
              "  </style>\n",
              "\n",
              "      <script>\n",
              "        const buttonEl =\n",
              "          document.querySelector('#df-33052174-cc6f-4141-9887-aa1fcd7a65e4 button.colab-df-convert');\n",
              "        buttonEl.style.display =\n",
              "          google.colab.kernel.accessAllowed ? 'block' : 'none';\n",
              "\n",
              "        async function convertToInteractive(key) {\n",
              "          const element = document.querySelector('#df-33052174-cc6f-4141-9887-aa1fcd7a65e4');\n",
              "          const dataTable =\n",
              "            await google.colab.kernel.invokeFunction('convertToInteractive',\n",
              "                                                     [key], {});\n",
              "          if (!dataTable) return;\n",
              "\n",
              "          const docLinkHtml = 'Like what you see? Visit the ' +\n",
              "            '<a target=\"_blank\" href=https://colab.research.google.com/notebooks/data_table.ipynb>data table notebook</a>'\n",
              "            + ' to learn more about interactive tables.';\n",
              "          element.innerHTML = '';\n",
              "          dataTable['output_type'] = 'display_data';\n",
              "          await google.colab.output.renderOutput(dataTable, element);\n",
              "          const docLink = document.createElement('div');\n",
              "          docLink.innerHTML = docLinkHtml;\n",
              "          element.appendChild(docLink);\n",
              "        }\n",
              "      </script>\n",
              "    </div>\n",
              "  </div>\n",
              "  "
            ]
          },
          "metadata": {},
          "execution_count": 23
        }
      ]
    },
    {
      "cell_type": "code",
      "source": [
        "#9= Nasir's code\n",
        "df['Adj Close']      #this is to get the adj close columns values, so in this way you can manupilate the data as the way you want."
      ],
      "metadata": {
        "colab": {
          "base_uri": "https://localhost:8080/"
        },
        "id": "KzNUti6M2sU5",
        "outputId": "d8a14d74-0e2c-4383-e017-60614d19761e"
      },
      "execution_count": 25,
      "outputs": [
        {
          "output_type": "execute_result",
          "data": {
            "text/plain": [
              "0      47.136189\n",
              "1      47.791618\n",
              "2      48.401527\n",
              "3      47.609554\n",
              "4      46.153046\n",
              "         ...    \n",
              "245    45.939999\n",
              "246    45.240002\n",
              "247    45.049999\n",
              "248    45.980000\n",
              "249    46.904999\n",
              "Name: Adj Close, Length: 250, dtype: float64"
            ]
          },
          "metadata": {},
          "execution_count": 25
        }
      ]
    },
    {
      "cell_type": "code",
      "source": [
        "#10- Nasir's Code\n",
        "df[['Date','Adj Close']]"
      ],
      "metadata": {
        "colab": {
          "base_uri": "https://localhost:8080/",
          "height": 424
        },
        "id": "sAGQq9Gq3o2h",
        "outputId": "4a0ac33d-202a-458d-edb3-cc098ba5c805"
      },
      "execution_count": 31,
      "outputs": [
        {
          "output_type": "execute_result",
          "data": {
            "text/plain": [
              "           Date  Adj Close\n",
              "0    2022-04-13  47.136189\n",
              "1    2022-04-14  47.791618\n",
              "2    2022-04-19  48.401531\n",
              "3    2022-04-20  47.609554\n",
              "4    2022-04-21  46.153049\n",
              "..          ...        ...\n",
              "245  2023-04-04  45.939999\n",
              "246  2023-04-05  45.240002\n",
              "247  2023-04-06  45.049999\n",
              "248  2023-04-11  45.980000\n",
              "249  2023-04-12  46.930000\n",
              "\n",
              "[250 rows x 2 columns]"
            ],
            "text/html": [
              "\n",
              "  <div id=\"df-461b9e75-a349-4872-9a61-930a578683e0\">\n",
              "    <div class=\"colab-df-container\">\n",
              "      <div>\n",
              "<style scoped>\n",
              "    .dataframe tbody tr th:only-of-type {\n",
              "        vertical-align: middle;\n",
              "    }\n",
              "\n",
              "    .dataframe tbody tr th {\n",
              "        vertical-align: top;\n",
              "    }\n",
              "\n",
              "    .dataframe thead th {\n",
              "        text-align: right;\n",
              "    }\n",
              "</style>\n",
              "<table border=\"1\" class=\"dataframe\">\n",
              "  <thead>\n",
              "    <tr style=\"text-align: right;\">\n",
              "      <th></th>\n",
              "      <th>Date</th>\n",
              "      <th>Adj Close</th>\n",
              "    </tr>\n",
              "  </thead>\n",
              "  <tbody>\n",
              "    <tr>\n",
              "      <th>0</th>\n",
              "      <td>2022-04-13</td>\n",
              "      <td>47.136189</td>\n",
              "    </tr>\n",
              "    <tr>\n",
              "      <th>1</th>\n",
              "      <td>2022-04-14</td>\n",
              "      <td>47.791618</td>\n",
              "    </tr>\n",
              "    <tr>\n",
              "      <th>2</th>\n",
              "      <td>2022-04-19</td>\n",
              "      <td>48.401531</td>\n",
              "    </tr>\n",
              "    <tr>\n",
              "      <th>3</th>\n",
              "      <td>2022-04-20</td>\n",
              "      <td>47.609554</td>\n",
              "    </tr>\n",
              "    <tr>\n",
              "      <th>4</th>\n",
              "      <td>2022-04-21</td>\n",
              "      <td>46.153049</td>\n",
              "    </tr>\n",
              "    <tr>\n",
              "      <th>...</th>\n",
              "      <td>...</td>\n",
              "      <td>...</td>\n",
              "    </tr>\n",
              "    <tr>\n",
              "      <th>245</th>\n",
              "      <td>2023-04-04</td>\n",
              "      <td>45.939999</td>\n",
              "    </tr>\n",
              "    <tr>\n",
              "      <th>246</th>\n",
              "      <td>2023-04-05</td>\n",
              "      <td>45.240002</td>\n",
              "    </tr>\n",
              "    <tr>\n",
              "      <th>247</th>\n",
              "      <td>2023-04-06</td>\n",
              "      <td>45.049999</td>\n",
              "    </tr>\n",
              "    <tr>\n",
              "      <th>248</th>\n",
              "      <td>2023-04-11</td>\n",
              "      <td>45.980000</td>\n",
              "    </tr>\n",
              "    <tr>\n",
              "      <th>249</th>\n",
              "      <td>2023-04-12</td>\n",
              "      <td>46.930000</td>\n",
              "    </tr>\n",
              "  </tbody>\n",
              "</table>\n",
              "<p>250 rows × 2 columns</p>\n",
              "</div>\n",
              "      <button class=\"colab-df-convert\" onclick=\"convertToInteractive('df-461b9e75-a349-4872-9a61-930a578683e0')\"\n",
              "              title=\"Convert this dataframe to an interactive table.\"\n",
              "              style=\"display:none;\">\n",
              "        \n",
              "  <svg xmlns=\"http://www.w3.org/2000/svg\" height=\"24px\"viewBox=\"0 0 24 24\"\n",
              "       width=\"24px\">\n",
              "    <path d=\"M0 0h24v24H0V0z\" fill=\"none\"/>\n",
              "    <path d=\"M18.56 5.44l.94 2.06.94-2.06 2.06-.94-2.06-.94-.94-2.06-.94 2.06-2.06.94zm-11 1L8.5 8.5l.94-2.06 2.06-.94-2.06-.94L8.5 2.5l-.94 2.06-2.06.94zm10 10l.94 2.06.94-2.06 2.06-.94-2.06-.94-.94-2.06-.94 2.06-2.06.94z\"/><path d=\"M17.41 7.96l-1.37-1.37c-.4-.4-.92-.59-1.43-.59-.52 0-1.04.2-1.43.59L10.3 9.45l-7.72 7.72c-.78.78-.78 2.05 0 2.83L4 21.41c.39.39.9.59 1.41.59.51 0 1.02-.2 1.41-.59l7.78-7.78 2.81-2.81c.8-.78.8-2.07 0-2.86zM5.41 20L4 18.59l7.72-7.72 1.47 1.35L5.41 20z\"/>\n",
              "  </svg>\n",
              "      </button>\n",
              "      \n",
              "  <style>\n",
              "    .colab-df-container {\n",
              "      display:flex;\n",
              "      flex-wrap:wrap;\n",
              "      gap: 12px;\n",
              "    }\n",
              "\n",
              "    .colab-df-convert {\n",
              "      background-color: #E8F0FE;\n",
              "      border: none;\n",
              "      border-radius: 50%;\n",
              "      cursor: pointer;\n",
              "      display: none;\n",
              "      fill: #1967D2;\n",
              "      height: 32px;\n",
              "      padding: 0 0 0 0;\n",
              "      width: 32px;\n",
              "    }\n",
              "\n",
              "    .colab-df-convert:hover {\n",
              "      background-color: #E2EBFA;\n",
              "      box-shadow: 0px 1px 2px rgba(60, 64, 67, 0.3), 0px 1px 3px 1px rgba(60, 64, 67, 0.15);\n",
              "      fill: #174EA6;\n",
              "    }\n",
              "\n",
              "    [theme=dark] .colab-df-convert {\n",
              "      background-color: #3B4455;\n",
              "      fill: #D2E3FC;\n",
              "    }\n",
              "\n",
              "    [theme=dark] .colab-df-convert:hover {\n",
              "      background-color: #434B5C;\n",
              "      box-shadow: 0px 1px 3px 1px rgba(0, 0, 0, 0.15);\n",
              "      filter: drop-shadow(0px 1px 2px rgba(0, 0, 0, 0.3));\n",
              "      fill: #FFFFFF;\n",
              "    }\n",
              "  </style>\n",
              "\n",
              "      <script>\n",
              "        const buttonEl =\n",
              "          document.querySelector('#df-461b9e75-a349-4872-9a61-930a578683e0 button.colab-df-convert');\n",
              "        buttonEl.style.display =\n",
              "          google.colab.kernel.accessAllowed ? 'block' : 'none';\n",
              "\n",
              "        async function convertToInteractive(key) {\n",
              "          const element = document.querySelector('#df-461b9e75-a349-4872-9a61-930a578683e0');\n",
              "          const dataTable =\n",
              "            await google.colab.kernel.invokeFunction('convertToInteractive',\n",
              "                                                     [key], {});\n",
              "          if (!dataTable) return;\n",
              "\n",
              "          const docLinkHtml = 'Like what you see? Visit the ' +\n",
              "            '<a target=\"_blank\" href=https://colab.research.google.com/notebooks/data_table.ipynb>data table notebook</a>'\n",
              "            + ' to learn more about interactive tables.';\n",
              "          element.innerHTML = '';\n",
              "          dataTable['output_type'] = 'display_data';\n",
              "          await google.colab.output.renderOutput(dataTable, element);\n",
              "          const docLink = document.createElement('div');\n",
              "          docLink.innerHTML = docLinkHtml;\n",
              "          element.appendChild(docLink);\n",
              "        }\n",
              "      </script>\n",
              "    </div>\n",
              "  </div>\n",
              "  "
            ]
          },
          "metadata": {},
          "execution_count": 31
        }
      ]
    },
    {
      "cell_type": "code",
      "source": [
        "#11- Nasir Code.\n",
        "#import pandas module\n",
        "import pandas as pnd  #here I am using pnd as module name\n",
        "from matplotlib import pyplot as plt\n",
        "\n",
        "# Load the data\n",
        "data = pnd.read_csv('BHPData.csv')\n",
        "print(data.head())\n",
        "\n",
        "df = data[['Date', 'Adj Close']]\n",
        "print(df.head())\n",
        "\n",
        "plt.plot(data['Date'], data['Adj Close'])"
      ],
      "metadata": {
        "colab": {
          "base_uri": "https://localhost:8080/",
          "height": 656
        },
        "id": "0aBQDY845tw0",
        "outputId": "507606b5-3f93-42fb-82a4-cfabc7a7cec2"
      },
      "execution_count": 32,
      "outputs": [
        {
          "output_type": "stream",
          "name": "stdout",
          "text": [
            "         Date       Open       High        Low      Close  Adj Close    Volume\n",
            "0  2022-04-13  51.849998  52.029999  51.470001  51.779999  47.136189   7602532\n",
            "1  2022-04-14  52.200001  52.610001  52.080002  52.500000  47.791618   8994800\n",
            "2  2022-04-19  53.180000  53.720001  53.060001  53.169998  48.401531   8285661\n",
            "3  2022-04-20  53.029999  53.099998  52.299999  52.299999  47.609554   8897006\n",
            "4  2022-04-21  51.389999  51.590000  50.700001  50.700001  46.153049  13882138\n",
            "         Date  Adj Close\n",
            "0  2022-04-13  47.136189\n",
            "1  2022-04-14  47.791618\n",
            "2  2022-04-19  48.401531\n",
            "3  2022-04-20  47.609554\n",
            "4  2022-04-21  46.153049\n"
          ]
        },
        {
          "output_type": "execute_result",
          "data": {
            "text/plain": [
              "[<matplotlib.lines.Line2D at 0x7f37c01e6c70>]"
            ]
          },
          "metadata": {},
          "execution_count": 32
        },
        {
          "output_type": "display_data",
          "data": {
            "text/plain": [
              "<Figure size 640x480 with 1 Axes>"
            ],
            "image/png": "[encoded data removed]"
          },
          "metadata": {}
        }
      ]
    },
    {
      "cell_type": "code",
      "source": [
        "#Here we are going to use Pandas Module for plotting the graph.\n",
        "!curl \"https://query1.finance.yahoo.com/v7/finance/download/BHP.AX?period1=1649798542&period2=1681334542&interval=1d&events=history&includeAdjustedClose=true\" > BHPData.csv"
      ],
      "metadata": {
        "id": "RNGquOZONfU8",
        "colab": {
          "base_uri": "https://localhost:8080/"
        },
        "outputId": "2e7f4992-4e78-4213-b351-f9a607de6a0d"
      },
      "execution_count": 28,
      "outputs": [
        {
          "output_type": "stream",
          "name": "stdout",
          "text": [
            "  % Total    % Received % Xferd  Average Speed   Time    Time     Time  Current\n",
            "                                 Dload  Upload   Total   Spent    Left  Speed\n",
            "\r  0     0    0     0    0     0      0      0 --:--:-- --:--:-- --:--:--     0\r100 17399    0 17399    0     0   125k      0 --:--:-- --:--:-- --:--:--  125k\n"
          ]
        }
      ]
    },
    {
      "cell_type": "code",
      "execution_count": 29,
      "metadata": {
        "id": "O0aJQTGiM0Tc",
        "colab": {
          "base_uri": "https://localhost:8080/",
          "height": 656
        },
        "outputId": "1e2fe7ab-c184-4ab2-88d8-5265b01114e5"
      },
      "outputs": [
        {
          "output_type": "stream",
          "name": "stdout",
          "text": [
            "         Date       Open       High        Low      Close  Adj Close    Volume\n",
            "0  2022-04-13  51.849998  52.029999  51.470001  51.779999  47.136189   7602532\n",
            "1  2022-04-14  52.200001  52.610001  52.080002  52.500000  47.791618   8994800\n",
            "2  2022-04-19  53.180000  53.720001  53.060001  53.169998  48.401531   8285661\n",
            "3  2022-04-20  53.029999  53.099998  52.299999  52.299999  47.609554   8897006\n",
            "4  2022-04-21  51.389999  51.590000  50.700001  50.700001  46.153049  13882138\n",
            "         Date  Adj Close\n",
            "0  2022-04-13  47.136189\n",
            "1  2022-04-14  47.791618\n",
            "2  2022-04-19  48.401531\n",
            "3  2022-04-20  47.609554\n",
            "4  2022-04-21  46.153049\n"
          ]
        },
        {
          "output_type": "execute_result",
          "data": {
            "text/plain": [
              "[<matplotlib.lines.Line2D at 0x7f37c2eb4a90>]"
            ]
          },
          "metadata": {},
          "execution_count": 29
        },
        {
          "output_type": "display_data",
          "data": {
            "text/plain": [
              "<Figure size 640x480 with 1 Axes>"
            ],
            "image/png": "[encoded data removed]"
          },
          "metadata": {}
        }
      ],
      "source": [
        "#import pandas module\n",
        "import pandas as pnd  #here I am using pnd as module name\n",
        "from matplotlib import pyplot as plt\n",
        "\n",
        "# Load the data\n",
        "data = pnd.read_csv('BHPData.csv')\n",
        "print(data.head())\n",
        "\n",
        "df = data[['Date', 'Adj Close']]\n",
        "print(df.head())\n",
        "\n",
        "plt.plot(data['Date'], data['Adj Close'])\n"
      ]
    },
    {
      "cell_type": "markdown",
      "source": [
        "## Daily Return of Stock Data\n",
        "\n",
        "### Daily Return formula\n",
        "\n",
        "Visiting a financial website that provides stock price information. Type a company’s name or its stock’s ticker symbol. Find in the historical prices section the stock’s closing price for any two consecutive days. For example, assume a stock’s closing price was \\$36.75 yesterday and that its closing price was \\$35.50 the previous day. Subtract the previous day’s closing price from the most recent day’s closing price. In this example, subtract \\$35.50 from \\$36.75 to get \\$1.25.\n",
        "\n",
        "Now divide the results by the previous day's closing prices to calculate the daily return.  Multiply this by 100 to convert to a percentage.  So $1.25 divided by #35.50 equals 0.035.  Multiply 0.035 by 100 to 3.5 percent.\n",
        "\n",
        "    Daily return = (Today prices - Yesterday price) / Yesterday price\n",
        "\n",
        "\n",
        "\n",
        "To find the URL, navigate to Yahoo finance, type in NAB.AX, click the 'Historical' tab.  towards the right is a download option.  right click on the download link and select 'Copy Link Address' form the popup menu.  Now paste to the URL assignment statement."
      ],
      "metadata": {
        "id": "QqhiTK-eOCYC"
      }
    },
    {
      "cell_type": "code",
      "source": [],
      "metadata": {
        "id": "L4l3gXQgOZAb"
      },
      "execution_count": null,
      "outputs": []
    },
    {
      "cell_type": "markdown",
      "metadata": {
        "id": "gTo3bmwTEAbJ"
      },
      "source": [
        "Sources:\n",
        "\n",
        "*Kaefer, F., & Kaefer, P. (2020). Introduction to Python \n",
        "Programming for Business and Social Science Applications. SAGE Publications, Inc. (US).*\n",
        "\n",
        "*Tony Gaddis, Starting out with Python, 5th Edition*\n",
        "\n",
        "*Deitel & Deitel, Intro to Python for Computer Science and Data Science, Global Edition*\n"
      ]
    }
  ],
  "metadata": {
    "colab": {
      "provenance": [],
      "collapsed_sections": [
        "KiOs3fgB9CD8"
      ],
      "include_colab_link": true
    },
    "kernelspec": {
      "display_name": "Python 3",
      "name": "python3"
    },
    "language_info": {
      "name": "python"
    }
  },
  "nbformat": 4,
  "nbformat_minor": 0
}