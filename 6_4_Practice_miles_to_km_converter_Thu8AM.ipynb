{
  "nbformat": 4,
  "nbformat_minor": 0,
  "metadata": {
    "colab": {
      "provenance": [],
      "authorship_tag": "ABX9TyMxVZDGh5IxpxYZ+BfyrIkr",
      "include_colab_link": true
    },
    "kernelspec": {
      "name": "python3",
      "display_name": "Python 3"
    },
    "language_info": {
      "name": "python"
    }
  },
  "cells": [
    {
      "cell_type": "markdown",
      "metadata": {
        "id": "view-in-github",
        "colab_type": "text"
      },
      "source": [
        "<a href=\"https://colab.research.google.com/github/isys5002-itp/ISYS5002-2023-Semester1/blob/main/6_4_Practice_miles_to_km_converter_Thu8AM.ipynb\" target=\"_parent\"><img src=\"https://colab.research.google.com/assets/colab-badge.svg\" alt=\"Open In Colab\"/></a>"
      ]
    },
    {
      "cell_type": "markdown",
      "source": [
        "## Problem Statement:\n",
        "\n",
        "### Simple version\n",
        "The run tracker program is designed to help users keep track of their runs. Users can enter the date, distance in miles, and time in minutes for each run they complete. The program then automatically converts the distance in miles to kilometers and calculates the speed in kilometers per hour using the conversion formula 1 mile = 1.60934 kilometers and speed calcluation formula speed = distance / time.The program should then display the result.\n",
        "\n",
        "### Extended version:\n",
        "The run tracker program is designed to help users keep track of their runs. Users can enter the date, distance in miles, and time in minutes for each run they complete. The program then automatically converts the distance in miles to kilometers and calculates the speed in kilometers per hour using the conversion formula 1 mile = 1.60934 kilometers. The information, including all input values and the calculated speed, is then saved to a CSV file named 'run.csv' for later analysis or tracking.\n",
        "\n",
        "The program is user-friendly and interactive. It prompts the user to enter the required information and provides clear feedback, including a confirmation message with the values entered by the user and the calculated speed. The program also allows the user to decide whether to continue entering more runs or terminate the program.\n",
        "\n",
        "Overall, the run tracker program is a useful tool for individuals who want to monitor their running progress over time and make data-driven decisions about their training."
      ],
      "metadata": {
        "id": "x9jojthsPxBn"
      }
    },
    {
      "cell_type": "markdown",
      "source": [
        "Following the **six-steps problem solving methodology**,<br>\n",
        "**Design and implement** the solution following good programming practices, such as modularising code, validating inputs, handling errors properly, and adhering to the PEP8 style guide.\n",
        "\n",
        "Adhering to PEP8 standards including:\n",
        "* the programming style naming conventions used in the PEP8, which include:\n",
        "* Meaningful names for project, variable, methods, and controls.\n",
        "* Correct capatlisation of variables and methods\n",
        "* Appropriate use of comments\n",
        "* Reference any relevant forums, websites, videos that you used.\n",
        "* Use of space and indentation to program is easy to read."
      ],
      "metadata": {
        "id": "NMyr0sRXzj4D"
      }
    },
    {
      "cell_type": "markdown",
      "source": [
        "Sample input/output:\n",
        "\n",
        "```\n",
        "Enter distance in miles: 10.5\n",
        "10.5 miles is equal to 16.898104 kilometers.\n",
        "\n",
        "Enter distance in miles: 0\n",
        "0.0 miles is equal to 0.0 kilometers.\n",
        "\n",
        "Enter distance in miles: -5\n",
        "Error: Distance cannot be negative.\n",
        "\n",
        "Enter distance in miles: abc\n",
        "Error: Invalid input. Distance must be a number.\n",
        "```\n",
        "\n"
      ],
      "metadata": {
        "id": "81iAFJucQEvQ"
      }
    },
    {
      "cell_type": "markdown",
      "source": [
        "**Design**\n",
        "1. Step 1: identify the srequirements\n",
        "2. Step 2: Inputs and Outputs\n",
        "3. Step 3: work an example of the problem\n",
        "4. Step 4: algo/pseudocode\n"
      ],
      "metadata": {
        "id": "BjtAb2Xr8xDg"
      }
    },
    {
      "cell_type": "markdown",
      "source": [
        "Step 1: "
      ],
      "metadata": {
        "id": "b1T3WxwF9M1q"
      }
    },
    {
      "cell_type": "markdown",
      "source": [
        "Step 2: "
      ],
      "metadata": {
        "id": "X32eOPsj9O1Z"
      }
    },
    {
      "cell_type": "markdown",
      "source": [
        "Step 3: "
      ],
      "metadata": {
        "id": "_dE2ckGX9RTR"
      }
    },
    {
      "cell_type": "markdown",
      "source": [
        "Step 4: "
      ],
      "metadata": {
        "id": "YmpIGAu89SrJ"
      }
    },
    {
      "cell_type": "code",
      "source": [],
      "metadata": {
        "id": "SikFWznPRJuF"
      },
      "execution_count": null,
      "outputs": []
    },
    {
      "cell_type": "markdown",
      "source": [
        "### Test your program with some valid and invalid cases"
      ],
      "metadata": {
        "id": "Sdy8NRHrWJ0u"
      }
    },
    {
      "cell_type": "code",
      "source": [],
      "metadata": {
        "id": "ekCKmlCzWdaj"
      },
      "execution_count": null,
      "outputs": []
    },
    {
      "cell_type": "markdown",
      "source": [
        "### Optional: Modify the program so it print results and write results to a file."
      ],
      "metadata": {
        "id": "vw_BIIeeNsCl"
      }
    },
    {
      "cell_type": "code",
      "source": [],
      "metadata": {
        "id": "-mBD-_ApTLSD"
      },
      "execution_count": null,
      "outputs": []
    },
    {
      "cell_type": "markdown",
      "source": [
        "### Optional: Plot a graph to visualise the result\n",
        "\n",
        "\n"
      ],
      "metadata": {
        "id": "NmDIwHQ3T_bU"
      }
    }
  ]
}